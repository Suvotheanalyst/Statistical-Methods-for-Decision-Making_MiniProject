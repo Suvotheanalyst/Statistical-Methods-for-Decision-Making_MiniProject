{
 "cells": [
  {
   "cell_type": "code",
   "execution_count": 1,
   "id": "00466cd3",
   "metadata": {},
   "outputs": [],
   "source": [
    "import pandas as pd \n",
    "\n",
    "# import 'numpy' \n",
    "import numpy as np\n",
    "\n",
    "# import subpackage of matplotlib\n",
    "import matplotlib.pyplot as plt\n",
    "\n",
    "# import 'seaborn'\n",
    "import seaborn as sns\n",
    "\n",
    "# to suppress warnings \n",
    "from warnings import filterwarnings\n",
    "filterwarnings('ignore')\n",
    "\n",
    "# display all columns of the dataframe\n",
    "pd.options.display.max_columns = None\n",
    "\n",
    "# import statsmodels\n",
    "import statsmodels.api as sm\n",
    "from statsmodels.formula.api import ols\n",
    "from statsmodels.stats.anova import anova_lm\n",
    "\n",
    "# import 'stats' package from scipy library\n",
    "from scipy import stats\n",
    "\n",
    "# import the functions to perform Chi-square tests\n",
    "from scipy.stats import chi2_contingency\n",
    "from scipy.stats import chi2\n",
    "from scipy.stats import chisquare\n",
    "\n",
    "# function to perform post-hoc test\n",
    "import statsmodels.stats.multicomp as mc\n",
    "\n",
    "# import function to perform post-hoc\n",
    "# install scikit_posthocs using \"!pip install scikit_posthocs\" \n",
    "import scikit_posthocs\n",
    "\n",
    "import statistics\n",
    "\n",
    "from scipy.stats import shapiro\n",
    "\n",
    "# import a library to perform Z-test\n",
    "from statsmodels.stats import weightstats as stests"
   ]
  },
  {
   "cell_type": "code",
   "execution_count": 2,
   "id": "406faac5",
   "metadata": {},
   "outputs": [
    {
     "data": {
      "text/html": [
       "<div>\n",
       "<style scoped>\n",
       "    .dataframe tbody tr th:only-of-type {\n",
       "        vertical-align: middle;\n",
       "    }\n",
       "\n",
       "    .dataframe tbody tr th {\n",
       "        vertical-align: top;\n",
       "    }\n",
       "\n",
       "    .dataframe thead th {\n",
       "        text-align: right;\n",
       "    }\n",
       "</style>\n",
       "<table border=\"1\" class=\"dataframe\">\n",
       "  <thead>\n",
       "    <tr style=\"text-align: right;\">\n",
       "      <th></th>\n",
       "      <th>Patient_id</th>\n",
       "      <th>Oxy_level</th>\n",
       "      <th>Pulse_rate</th>\n",
       "      <th>Blood_Sugar</th>\n",
       "      <th>Age</th>\n",
       "      <th>Sex</th>\n",
       "      <th>Old_1</th>\n",
       "      <th>Old_2</th>\n",
       "      <th>Old_3</th>\n",
       "      <th>New_1</th>\n",
       "      <th>New_2</th>\n",
       "      <th>New_3</th>\n",
       "    </tr>\n",
       "  </thead>\n",
       "  <tbody>\n",
       "    <tr>\n",
       "      <th>0</th>\n",
       "      <td>COVPAT0001</td>\n",
       "      <td>97.109182</td>\n",
       "      <td>109.156925</td>\n",
       "      <td>83</td>\n",
       "      <td>5</td>\n",
       "      <td>M</td>\n",
       "      <td>30.08</td>\n",
       "      <td>23.14</td>\n",
       "      <td>33.58</td>\n",
       "      <td>30.51</td>\n",
       "      <td>28.75</td>\n",
       "      <td>22.47</td>\n",
       "    </tr>\n",
       "    <tr>\n",
       "      <th>1</th>\n",
       "      <td>COVPAT0002</td>\n",
       "      <td>98.039265</td>\n",
       "      <td>109.481086</td>\n",
       "      <td>119</td>\n",
       "      <td>3</td>\n",
       "      <td>M</td>\n",
       "      <td>18.38</td>\n",
       "      <td>28.86</td>\n",
       "      <td>38.32</td>\n",
       "      <td>21.66</td>\n",
       "      <td>28.53</td>\n",
       "      <td>16.05</td>\n",
       "    </tr>\n",
       "    <tr>\n",
       "      <th>2</th>\n",
       "      <td>COVPAT0003</td>\n",
       "      <td>97.904030</td>\n",
       "      <td>110.428601</td>\n",
       "      <td>80</td>\n",
       "      <td>8</td>\n",
       "      <td>F</td>\n",
       "      <td>30.27</td>\n",
       "      <td>24.32</td>\n",
       "      <td>42.16</td>\n",
       "      <td>21.99</td>\n",
       "      <td>31.26</td>\n",
       "      <td>20.15</td>\n",
       "    </tr>\n",
       "    <tr>\n",
       "      <th>3</th>\n",
       "      <td>COVPAT0004</td>\n",
       "      <td>99.212383</td>\n",
       "      <td>110.048527</td>\n",
       "      <td>95</td>\n",
       "      <td>5</td>\n",
       "      <td>M</td>\n",
       "      <td>28.81</td>\n",
       "      <td>21.73</td>\n",
       "      <td>21.46</td>\n",
       "      <td>24.66</td>\n",
       "      <td>26.34</td>\n",
       "      <td>15.90</td>\n",
       "    </tr>\n",
       "    <tr>\n",
       "      <th>4</th>\n",
       "      <td>COVPAT0005</td>\n",
       "      <td>99.235056</td>\n",
       "      <td>110.180046</td>\n",
       "      <td>82</td>\n",
       "      <td>6</td>\n",
       "      <td>M</td>\n",
       "      <td>25.06</td>\n",
       "      <td>32.65</td>\n",
       "      <td>27.54</td>\n",
       "      <td>25.84</td>\n",
       "      <td>20.59</td>\n",
       "      <td>21.65</td>\n",
       "    </tr>\n",
       "    <tr>\n",
       "      <th>5</th>\n",
       "      <td>COVPAT0006</td>\n",
       "      <td>98.955697</td>\n",
       "      <td>110.725100</td>\n",
       "      <td>97</td>\n",
       "      <td>5</td>\n",
       "      <td>M</td>\n",
       "      <td>24.97</td>\n",
       "      <td>25.79</td>\n",
       "      <td>42.23</td>\n",
       "      <td>27.37</td>\n",
       "      <td>25.13</td>\n",
       "      <td>25.05</td>\n",
       "    </tr>\n",
       "    <tr>\n",
       "      <th>6</th>\n",
       "      <td>COVPAT0007</td>\n",
       "      <td>98.246181</td>\n",
       "      <td>109.927157</td>\n",
       "      <td>80</td>\n",
       "      <td>3</td>\n",
       "      <td>M</td>\n",
       "      <td>25.15</td>\n",
       "      <td>21.53</td>\n",
       "      <td>31.54</td>\n",
       "      <td>17.55</td>\n",
       "      <td>25.24</td>\n",
       "      <td>20.29</td>\n",
       "    </tr>\n",
       "    <tr>\n",
       "      <th>7</th>\n",
       "      <td>COVPAT0008</td>\n",
       "      <td>100.082687</td>\n",
       "      <td>109.694405</td>\n",
       "      <td>98</td>\n",
       "      <td>7</td>\n",
       "      <td>F</td>\n",
       "      <td>28.67</td>\n",
       "      <td>23.53</td>\n",
       "      <td>49.29</td>\n",
       "      <td>26.28</td>\n",
       "      <td>24.21</td>\n",
       "      <td>14.60</td>\n",
       "    </tr>\n",
       "    <tr>\n",
       "      <th>8</th>\n",
       "      <td>COVPAT0009</td>\n",
       "      <td>100.189262</td>\n",
       "      <td>110.339871</td>\n",
       "      <td>81</td>\n",
       "      <td>9</td>\n",
       "      <td>F</td>\n",
       "      <td>29.46</td>\n",
       "      <td>21.79</td>\n",
       "      <td>41.70</td>\n",
       "      <td>19.84</td>\n",
       "      <td>25.24</td>\n",
       "      <td>16.65</td>\n",
       "    </tr>\n",
       "    <tr>\n",
       "      <th>9</th>\n",
       "      <td>COVPAT0010</td>\n",
       "      <td>99.760662</td>\n",
       "      <td>109.761587</td>\n",
       "      <td>88</td>\n",
       "      <td>7</td>\n",
       "      <td>M</td>\n",
       "      <td>22.46</td>\n",
       "      <td>21.59</td>\n",
       "      <td>40.61</td>\n",
       "      <td>26.24</td>\n",
       "      <td>22.69</td>\n",
       "      <td>23.50</td>\n",
       "    </tr>\n",
       "  </tbody>\n",
       "</table>\n",
       "</div>"
      ],
      "text/plain": [
       "   Patient_id   Oxy_level  Pulse_rate  Blood_Sugar  Age Sex  Old_1  Old_2  \\\n",
       "0  COVPAT0001   97.109182  109.156925           83    5   M  30.08  23.14   \n",
       "1  COVPAT0002   98.039265  109.481086          119    3   M  18.38  28.86   \n",
       "2  COVPAT0003   97.904030  110.428601           80    8   F  30.27  24.32   \n",
       "3  COVPAT0004   99.212383  110.048527           95    5   M  28.81  21.73   \n",
       "4  COVPAT0005   99.235056  110.180046           82    6   M  25.06  32.65   \n",
       "5  COVPAT0006   98.955697  110.725100           97    5   M  24.97  25.79   \n",
       "6  COVPAT0007   98.246181  109.927157           80    3   M  25.15  21.53   \n",
       "7  COVPAT0008  100.082687  109.694405           98    7   F  28.67  23.53   \n",
       "8  COVPAT0009  100.189262  110.339871           81    9   F  29.46  21.79   \n",
       "9  COVPAT0010   99.760662  109.761587           88    7   M  22.46  21.59   \n",
       "\n",
       "   Old_3  New_1  New_2  New_3  \n",
       "0  33.58  30.51  28.75  22.47  \n",
       "1  38.32  21.66  28.53  16.05  \n",
       "2  42.16  21.99  31.26  20.15  \n",
       "3  21.46  24.66  26.34  15.90  \n",
       "4  27.54  25.84  20.59  21.65  \n",
       "5  42.23  27.37  25.13  25.05  \n",
       "6  31.54  17.55  25.24  20.29  \n",
       "7  49.29  26.28  24.21  14.60  \n",
       "8  41.70  19.84  25.24  16.65  \n",
       "9  40.61  26.24  22.69  23.50  "
      ]
     },
     "execution_count": 2,
     "metadata": {},
     "output_type": "execute_result"
    }
   ],
   "source": [
    "df_pharma = pd.read_csv('Stats_project_dataset.csv')\n",
    "df_pharma.head(10)"
   ]
  },
  {
   "cell_type": "code",
   "execution_count": 3,
   "id": "5d16daca",
   "metadata": {},
   "outputs": [
    {
     "data": {
      "text/plain": [
       "98.99711569590404"
      ]
     },
     "execution_count": 3,
     "metadata": {},
     "output_type": "execute_result"
    }
   ],
   "source": [
    "df_pharma.Oxy_level.mean()"
   ]
  },
  {
   "cell_type": "code",
   "execution_count": 4,
   "id": "a7da6f4b",
   "metadata": {},
   "outputs": [
    {
     "data": {
      "text/plain": [
       "110.00395163116018"
      ]
     },
     "execution_count": 4,
     "metadata": {},
     "output_type": "execute_result"
    }
   ],
   "source": [
    "df_pharma.Pulse_rate.mean()"
   ]
  },
  {
   "cell_type": "code",
   "execution_count": 5,
   "id": "3f4f82a0",
   "metadata": {},
   "outputs": [
    {
     "data": {
      "text/plain": [
       "153.1158"
      ]
     },
     "execution_count": 5,
     "metadata": {},
     "output_type": "execute_result"
    }
   ],
   "source": [
    "df_pharma.Blood_Sugar.mean()"
   ]
  },
  {
   "cell_type": "code",
   "execution_count": 6,
   "id": "5cb4d73e",
   "metadata": {},
   "outputs": [
    {
     "data": {
      "text/plain": [
       "43.6096"
      ]
     },
     "execution_count": 6,
     "metadata": {},
     "output_type": "execute_result"
    }
   ],
   "source": [
    "df_pharma.Age.mean()"
   ]
  },
  {
   "cell_type": "code",
   "execution_count": 7,
   "id": "b373451a",
   "metadata": {},
   "outputs": [
    {
     "data": {
      "text/plain": [
       "5000"
      ]
     },
     "execution_count": 7,
     "metadata": {},
     "output_type": "execute_result"
    }
   ],
   "source": [
    "len(df_pharma)"
   ]
  },
  {
   "cell_type": "code",
   "execution_count": 8,
   "id": "0f97ab19",
   "metadata": {},
   "outputs": [
    {
     "data": {
      "text/plain": [
       "Oxy_level       1.014435\n",
       "Pulse_rate      1.001546\n",
       "Blood_Sugar    62.054954\n",
       "Age            25.584239\n",
       "Old_1           4.022403\n",
       "Old_2           3.994238\n",
       "Old_3           9.953971\n",
       "New_1           3.989473\n",
       "New_2           4.936922\n",
       "New_3           3.983410\n",
       "dtype: float64"
      ]
     },
     "execution_count": 8,
     "metadata": {},
     "output_type": "execute_result"
    }
   ],
   "source": [
    "df_pharma.std()"
   ]
  },
  {
   "cell_type": "code",
   "execution_count": 9,
   "id": "d801e111",
   "metadata": {},
   "outputs": [
    {
     "name": "stdout",
     "output_type": "stream",
     "text": [
      "Critical value for two-tailed Z-test: 1.96\n"
     ]
    }
   ],
   "source": [
    "z_val = np.abs(round(stats.norm.isf(q = 0.05/2), 2))\n",
    "\n",
    "print('Critical value for two-tailed Z-test:', z_val)"
   ]
  },
  {
   "cell_type": "markdown",
   "id": "0a732674",
   "metadata": {},
   "source": [
    "# Assumptions about the patients’ health record"
   ]
  },
  {
   "cell_type": "markdown",
   "id": "906765a4",
   "metadata": {},
   "source": [
    "# oxygen level"
   ]
  },
  {
   "cell_type": "code",
   "execution_count": 10,
   "id": "4f24ff85",
   "metadata": {},
   "outputs": [
    {
     "name": "stdout",
     "output_type": "stream",
     "text": [
      "Z-score: 0.2019317807183628\n"
     ]
    }
   ],
   "source": [
    "def z_test(pop_mean, pop_std, n, samp_mean):\n",
    "   \n",
    "    # calculate the test statistic\n",
    "    z_score = (samp_mean - pop_mean) / (pop_std / np.sqrt(n))\n",
    "\n",
    "    # return the z-test value\n",
    "    return z_score\n",
    "\n",
    "# given data\n",
    "n = 5000\n",
    "pop_mean = df_pharma.Oxy_level.mean()\n",
    "pop_std = 1.01\n",
    "samp_mean = 99\n",
    "\n",
    "# calculate the test statistic using the function 'z_test'\n",
    "z_score = z_test(pop_mean, pop_std, n, samp_mean)\n",
    "print(\"Z-score:\", z_score)"
   ]
  },
  {
   "cell_type": "code",
   "execution_count": 11,
   "id": "06e5f96f",
   "metadata": {},
   "outputs": [
    {
     "name": "stdout",
     "output_type": "stream",
     "text": [
      "p-value: 1.1600299435921404\n"
     ]
    }
   ],
   "source": [
    "p_value = stats.norm.cdf(z_score)\n",
    "\n",
    "# for a two-tailed test multiply the p-value by 2\n",
    "req_p = p_value*2\n",
    "print('p-value:', req_p)"
   ]
  },
  {
   "cell_type": "code",
   "execution_count": 12,
   "id": "61e83e15",
   "metadata": {},
   "outputs": [
    {
     "name": "stdout",
     "output_type": "stream",
     "text": [
      "Confidence interval: (98.97200474274814, 99.02799525725186)\n"
     ]
    }
   ],
   "source": [
    "print('Confidence interval:', stats.norm.interval(0.95, loc = samp_mean, scale = pop_std / np.sqrt(n)))"
   ]
  },
  {
   "cell_type": "markdown",
   "id": "46cdee27",
   "metadata": {},
   "source": [
    "Here the z score is less than 1.96, p-value is greater than 0.05, also the confidence interval contain the value in the null hypothesis (i.e. 99), thus we accept the null hypothesis and conclude that there is enough evidence to claim that the mean oxygen level is not different from 99"
   ]
  },
  {
   "cell_type": "markdown",
   "id": "84f8a097",
   "metadata": {},
   "source": [
    "Let us plot the acceptance and rejection region for a two-tailed test  with 95% confidence."
   ]
  },
  {
   "cell_type": "code",
   "execution_count": 13,
   "id": "13edf7db",
   "metadata": {},
   "outputs": [
    {
     "data": {
      "image/png": "[encoded data removed]",
      "text/plain": [
       "<Figure size 432x288 with 1 Axes>"
      ]
     },
     "metadata": {
      "needs_background": "light"
     },
     "output_type": "display_data"
    }
   ],
   "source": [
    "X = stats.norm.rvs(size = 1000000, random_state = 20)\n",
    "\n",
    "ax = sns.distplot(a = X, hist = False, kde_kws = dict(cumulative=False))\n",
    "\n",
    "plt.ylim(0, 0.42)\n",
    "\n",
    "z = stats.norm.isf(q = 0.05/2)\n",
    "\n",
    "x, y = [z, z], [0, 0.3]\n",
    "plt.plot(x, y, color = 'black')\n",
    "\n",
    "x, y = [-z, -z], [0, 0.3]\n",
    "plt.plot(x, y, color = 'black')\n",
    "\n",
    "x, y = [z_score, z_score], [0, 0.013]\n",
    "plt.plot(x, y, color = 'black')\n",
    "\n",
    "l1 = ax.lines[0]\n",
    "x1 = l1.get_xydata()[:,0]\n",
    "y1 = l1.get_xydata()[:,1]\n",
    "\n",
    "ax.fill_between(x1[x1 >= z], y1[x1 >= z], color = 'lightblue')\n",
    "\n",
    "ax.fill_between(x1[x1 <= -z], y1[x1 <= -z], color = 'lightblue')\n",
    "\n",
    "plt.annotate(s = 'Mean (μ)', xy = (0, 0), xytext = (-0.3, 0.04), arrowprops = dict(facecolor = 'black', arrowstyle = 'simple'))\n",
    "\n",
    "plt.annotate(s = 'α/2 = 0.025\\n(Rejection Region for H0)', xy = (2.8, 0.004), xytext = (2.8, 0.055), \n",
    "             arrowprops = dict(facecolor = 'black', arrowstyle = 'simple'))\n",
    "\n",
    "plt.annotate(s = 'α/2 = 0.025\\n(Rejection Region for H0)', xy = (-2.8, 0.004), xytext = (-4.5, 0.055), \n",
    "             arrowprops = dict(facecolor = 'black', arrowstyle = 'simple'))\n",
    "\n",
    "plt.annotate(s = 'z_crit = '+ str(round(z,2)), xy = (z, 0), xytext = (z-1.2, 0.02), \n",
    "             arrowprops = dict(facecolor = 'black', arrowstyle = 'simple'))\n",
    "\n",
    "plt.annotate(s = 'z_crit = '+ str(round(-z,2)), xy = (-z, 0), xytext = (-z+0.3, 0.02), \n",
    "             arrowprops = dict(facecolor = 'black', arrowstyle = 'simple'))\n",
    "\n",
    "plt.text(x = -1.15, y = 0.2, s = 'Acceptance Region for H0 (1 - α)')\n",
    "\n",
    "plt.xticks(ticks = [-6, -4, -2, 0, 2, 4, 6, round(z_score,2)], \n",
    "           labels = [-6, -4, -2, 0, 2, 4, 6, 'z_test = '+str(round(z_score,2))])\n",
    "\n",
    "plt.xlabel('Z', fontsize = 15)\n",
    "plt.ylabel('Probability', fontsize = 15)\n",
    "plt.title('Two-Tailed Test', fontsize = 15)\n",
    "\n",
    "plt.show()"
   ]
  },
  {
   "cell_type": "markdown",
   "id": "26a6c8fb",
   "metadata": {},
   "source": [
    "# Pulse_rate      "
   ]
  },
  {
   "cell_type": "code",
   "execution_count": 14,
   "id": "8b581956",
   "metadata": {},
   "outputs": [
    {
     "name": "stdout",
     "output_type": "stream",
     "text": [
      "Z-score: -706.2946125241211\n"
     ]
    }
   ],
   "source": [
    "def z_test(pop_mean, pop_std, n, samp_mean):\n",
    "   \n",
    "    # calculate the test statistic\n",
    "    z_score = (samp_mean - pop_mean) / (pop_std / np.sqrt(n))\n",
    "\n",
    "    # return the z-test value\n",
    "    return z_score\n",
    "\n",
    "# given data\n",
    "n = 5000\n",
    "pop_mean = 110.00395163116018\n",
    "pop_std = 1.001545518204558\n",
    "samp_mean = 100\n",
    "\n",
    "# calculate the test statistic using the function 'z_test'\n",
    "z_score = z_test(pop_mean, pop_std, n, samp_mean)\n",
    "print(\"Z-score:\", z_score)"
   ]
  },
  {
   "cell_type": "code",
   "execution_count": 15,
   "id": "10b577ee",
   "metadata": {},
   "outputs": [
    {
     "name": "stdout",
     "output_type": "stream",
     "text": [
      "p-value: 0.0\n"
     ]
    }
   ],
   "source": [
    "p_value = stats.norm.cdf(-706.2946125241211)\n",
    "\n",
    "# for a two-tailed test multiply the p-value by 2\n",
    "req_p = p_value*2\n",
    "print('p-value:', req_p)"
   ]
  },
  {
   "cell_type": "code",
   "execution_count": 16,
   "id": "0a9e0517",
   "metadata": {},
   "outputs": [
    {
     "name": "stdout",
     "output_type": "stream",
     "text": [
      "Confidence interval: (99.9722390847212, 100.0277609152788)\n"
     ]
    }
   ],
   "source": [
    "print('Confidence interval:', stats.norm.interval(0.95, loc = samp_mean, scale = pop_std / np.sqrt(n)))"
   ]
  },
  {
   "cell_type": "markdown",
   "id": "b84564d6",
   "metadata": {},
   "source": [
    "Here the z score is less than -1.96, p-value is less than 0.05, also the confidence interval do not contain the value in the null hypothesis (i.e. 100), thus we reject the null hypothesis and conclude that there is enough evidence to claim that the mean pulse rate is different from 100."
   ]
  },
  {
   "cell_type": "markdown",
   "id": "6399eecf",
   "metadata": {},
   "source": [
    "Let us plot the acceptance and rejection region for a two-tailed test  with 95% confidence."
   ]
  },
  {
   "cell_type": "code",
   "execution_count": 17,
   "id": "5ff988d9",
   "metadata": {},
   "outputs": [
    {
     "data": {
      "image/png": "[encoded data removed]",
      "text/plain": [
       "<Figure size 432x288 with 1 Axes>"
      ]
     },
     "metadata": {
      "needs_background": "light"
     },
     "output_type": "display_data"
    }
   ],
   "source": [
    "X = stats.norm.rvs(size = 1000000, random_state = 20)\n",
    "\n",
    "ax = sns.distplot(a = X, hist = False, kde_kws = dict(cumulative=False))\n",
    "\n",
    "plt.ylim(0, 0.42)\n",
    "\n",
    "z = stats.norm.isf(q = 0.05/2)\n",
    "\n",
    "x, y = [z, z], [0, 0.3]\n",
    "plt.plot(x, y, color = 'black')\n",
    "\n",
    "x, y = [-z, -z], [0, 0.3]\n",
    "plt.plot(x, y, color = 'black')\n",
    "\n",
    "x, y = [z_score, z_score], [0, 0.013]\n",
    "plt.plot(x, y, color = 'black')\n",
    "\n",
    "l1 = ax.lines[0]\n",
    "x1 = l1.get_xydata()[:,0]\n",
    "y1 = l1.get_xydata()[:,1]\n",
    "\n",
    "ax.fill_between(x1[x1 >= z], y1[x1 >= z], color = 'lightblue')\n",
    "\n",
    "ax.fill_between(x1[x1 <= -z], y1[x1 <= -z], color = 'lightblue')\n",
    "\n",
    "plt.annotate(s = 'Mean (μ)', xy = (0, 0), xytext = (-0.3, 0.04), arrowprops = dict(facecolor = 'black', arrowstyle = 'simple'))\n",
    "\n",
    "plt.annotate(s = 'α/2 = 0.025\\n(Rejection Region for H0)', xy = (2.8, 0.004), xytext = (2.8, 0.055), \n",
    "             arrowprops = dict(facecolor = 'black', arrowstyle = 'simple'))\n",
    "\n",
    "plt.annotate(s = 'α/2 = 0.025\\n(Rejection Region for H0)', xy = (-2.8, 0.004), xytext = (-4.5, 0.055), \n",
    "             arrowprops = dict(facecolor = 'black', arrowstyle = 'simple'))\n",
    "\n",
    "plt.annotate(s = 'z_crit = '+ str(round(z,2)), xy = (z, 0), xytext = (z-1.2, 0.02), \n",
    "             arrowprops = dict(facecolor = 'black', arrowstyle = 'simple'))\n",
    "\n",
    "plt.annotate(s = 'z_crit = '+ str(round(-z,2)), xy = (-z, 0), xytext = (-z+0.3, 0.02), \n",
    "             arrowprops = dict(facecolor = 'black', arrowstyle = 'simple'))\n",
    "\n",
    "plt.text(x = -1.15, y = 0.2, s = 'Acceptance Region for H0 (1 - α)')\n",
    "\n",
    "plt.xticks(ticks = [-6, -4, -2, 0, 2, 4, 6, round(z_score,2)], \n",
    "           labels = [-6, -4, -2, 0, 2, 4, 6, 'z_test = '+str(round(z_score,2))])\n",
    "\n",
    "plt.xlabel('Z', fontsize = 15)\n",
    "plt.ylabel('Probability', fontsize = 15)\n",
    "plt.title('Two-Tailed Test', fontsize = 15)\n",
    "\n",
    "plt.show()"
   ]
  },
  {
   "cell_type": "markdown",
   "id": "d78c5417",
   "metadata": {},
   "source": [
    "# Blood_Sugar "
   ]
  },
  {
   "cell_type": "code",
   "execution_count": 18,
   "id": "a8968295",
   "metadata": {},
   "outputs": [
    {
     "data": {
      "text/plain": [
       "153.1158"
      ]
     },
     "execution_count": 18,
     "metadata": {},
     "output_type": "execute_result"
    }
   ],
   "source": [
    "df_pharma.Blood_Sugar.mean()"
   ]
  },
  {
   "cell_type": "code",
   "execution_count": 19,
   "id": "11b73873",
   "metadata": {},
   "outputs": [
    {
     "data": {
      "text/plain": [
       "62.0549543052833"
      ]
     },
     "execution_count": 19,
     "metadata": {},
     "output_type": "execute_result"
    }
   ],
   "source": [
    "df_pharma.Blood_Sugar.std()"
   ]
  },
  {
   "cell_type": "code",
   "execution_count": 20,
   "id": "7a933397",
   "metadata": {},
   "outputs": [
    {
     "name": "stdout",
     "output_type": "stream",
     "text": [
      "Z-score: -3.5504067861886592\n"
     ]
    }
   ],
   "source": [
    "def z_test(pop_mean, pop_std, n, samp_mean):\n",
    "   \n",
    "    # calculate the test statistic\n",
    "    z_score = (samp_mean - pop_mean) / (pop_std / np.sqrt(n))\n",
    "\n",
    "    # return the z-test value\n",
    "    return z_score\n",
    "\n",
    "# given data\n",
    "n = 5000\n",
    "pop_mean = df_pharma.Blood_Sugar.mean()\n",
    "pop_std = df_pharma.Blood_Sugar.std()\n",
    "samp_mean = 150\n",
    "\n",
    "# calculate the test statistic using the function 'z_test'\n",
    "z_score = z_test(pop_mean, pop_std, n, samp_mean)\n",
    "print(\"Z-score:\", z_score)"
   ]
  },
  {
   "cell_type": "code",
   "execution_count": 21,
   "id": "812b9a24",
   "metadata": {},
   "outputs": [
    {
     "name": "stdout",
     "output_type": "stream",
     "text": [
      "p-value: 0.0003846363188906588\n"
     ]
    }
   ],
   "source": [
    "p_value = stats.norm.cdf(-3.5504067861886592)\n",
    "\n",
    "# for a two-tailed test multiply the p-value by 2\n",
    "req_p = p_value*2\n",
    "print('p-value:', req_p)"
   ]
  },
  {
   "cell_type": "code",
   "execution_count": 22,
   "id": "d9f135f9",
   "metadata": {},
   "outputs": [
    {
     "name": "stdout",
     "output_type": "stream",
     "text": [
      "Confidence interval: (148.27995603016927, 151.72004396983073)\n"
     ]
    }
   ],
   "source": [
    "print('Confidence interval:', stats.norm.interval(0.95, loc = samp_mean, scale = pop_std / np.sqrt(n)))"
   ]
  },
  {
   "cell_type": "markdown",
   "id": "15b49a50",
   "metadata": {},
   "source": [
    "Here the z score is less than -1.96, p-value is less than 0.05, also the confidence interval do not contain the value in the null hypothesis (i.e. 150), thus we reject the null hypothesis and conclude that there is enough evidence to claim that the mean blood sugar is different from 150."
   ]
  },
  {
   "cell_type": "markdown",
   "id": "e0a465e1",
   "metadata": {},
   "source": [
    "Let us plot the acceptance and rejection region for a two-tailed test  with 95% confidence."
   ]
  },
  {
   "cell_type": "code",
   "execution_count": 23,
   "id": "3717aae2",
   "metadata": {},
   "outputs": [
    {
     "data": {
      "image/png": "[encoded data removed]",
      "text/plain": [
       "<Figure size 432x288 with 1 Axes>"
      ]
     },
     "metadata": {
      "needs_background": "light"
     },
     "output_type": "display_data"
    }
   ],
   "source": [
    "X = stats.norm.rvs(size = 1000000, random_state = 20)\n",
    "\n",
    "ax = sns.distplot(a = X, hist = False, kde_kws = dict(cumulative=False))\n",
    "\n",
    "plt.ylim(0, 0.42)\n",
    "\n",
    "z = stats.norm.isf(q = 0.05/2)\n",
    "\n",
    "x, y = [z, z], [0, 0.3]\n",
    "plt.plot(x, y, color = 'black')\n",
    "\n",
    "x, y = [-z, -z], [0, 0.3]\n",
    "plt.plot(x, y, color = 'black')\n",
    "\n",
    "x, y = [z_score, z_score], [0, 0.013]\n",
    "plt.plot(x, y, color = 'black')\n",
    "\n",
    "l1 = ax.lines[0]\n",
    "x1 = l1.get_xydata()[:,0]\n",
    "y1 = l1.get_xydata()[:,1]\n",
    "\n",
    "ax.fill_between(x1[x1 >= z], y1[x1 >= z], color = 'lightblue')\n",
    "\n",
    "ax.fill_between(x1[x1 <= -z], y1[x1 <= -z], color = 'lightblue')\n",
    "\n",
    "plt.annotate(s = 'Mean (μ)', xy = (0, 0), xytext = (-0.3, 0.04), arrowprops = dict(facecolor = 'black', arrowstyle = 'simple'))\n",
    "\n",
    "plt.annotate(s = 'α/2 = 0.025\\n(Rejection Region for H0)', xy = (2.8, 0.004), xytext = (2.8, 0.055), \n",
    "             arrowprops = dict(facecolor = 'black', arrowstyle = 'simple'))\n",
    "\n",
    "plt.annotate(s = 'α/2 = 0.025\\n(Rejection Region for H0)', xy = (-2.8, 0.004), xytext = (-4.5, 0.055), \n",
    "             arrowprops = dict(facecolor = 'black', arrowstyle = 'simple'))\n",
    "\n",
    "plt.annotate(s = 'z_crit = '+ str(round(z,2)), xy = (z, 0), xytext = (z-1.2, 0.02), \n",
    "             arrowprops = dict(facecolor = 'black', arrowstyle = 'simple'))\n",
    "\n",
    "plt.annotate(s = 'z_crit = '+ str(round(-z,2)), xy = (-z, 0), xytext = (-z+0.3, 0.02), \n",
    "             arrowprops = dict(facecolor = 'black', arrowstyle = 'simple'))\n",
    "\n",
    "plt.text(x = -1.15, y = 0.2, s = 'Acceptance Region for H0 (1 - α)')\n",
    "\n",
    "plt.xticks(ticks = [-6, -4, -2, 0, 2, 4, 6, round(z_score,2)], \n",
    "           labels = [-6, -4, -2, 0, 2, 4, 6, 'z_test = '+str(round(z_score,2))])\n",
    "\n",
    "plt.xlabel('Z', fontsize = 15)\n",
    "plt.ylabel('Probability', fontsize = 15)\n",
    "plt.title('Two-Tailed Test', fontsize = 15)\n",
    "\n",
    "plt.show()"
   ]
  },
  {
   "cell_type": "markdown",
   "id": "ba460d77",
   "metadata": {},
   "source": [
    "# Age "
   ]
  },
  {
   "cell_type": "code",
   "execution_count": 24,
   "id": "27d506ea",
   "metadata": {},
   "outputs": [
    {
     "data": {
      "text/plain": [
       "43.6096"
      ]
     },
     "execution_count": 24,
     "metadata": {},
     "output_type": "execute_result"
    }
   ],
   "source": [
    "df_pharma.Age.mean()"
   ]
  },
  {
   "cell_type": "code",
   "execution_count": 25,
   "id": "e3d1f4d2",
   "metadata": {},
   "outputs": [
    {
     "data": {
      "text/plain": [
       "25.584239259741487"
      ]
     },
     "execution_count": 25,
     "metadata": {},
     "output_type": "execute_result"
    }
   ],
   "source": [
    "df_pharma.Age.std()"
   ]
  },
  {
   "cell_type": "code",
   "execution_count": 26,
   "id": "ff0fe526",
   "metadata": {},
   "outputs": [
    {
     "name": "stdout",
     "output_type": "stream",
     "text": [
      "Z-score: -9.976347592196307\n"
     ]
    }
   ],
   "source": [
    "def z_test(pop_mean, pop_std, n, samp_mean):\n",
    "   \n",
    "    # calculate the test statistic\n",
    "    z_score = (samp_mean - pop_mean) / (pop_std / np.sqrt(n))\n",
    "\n",
    "    # return the z-test value\n",
    "    return z_score\n",
    "\n",
    "# given data\n",
    "n = 5000\n",
    "pop_mean = df_pharma.Age.mean()\n",
    "pop_std = df_pharma.Age.std()\n",
    "samp_mean = 40\n",
    "\n",
    "# calculate the test statistic using the function 'z_test'\n",
    "z_score = z_test(pop_mean, pop_std, n, samp_mean)\n",
    "print(\"Z-score:\", z_score)"
   ]
  },
  {
   "cell_type": "code",
   "execution_count": 27,
   "id": "d9629a6f",
   "metadata": {},
   "outputs": [
    {
     "name": "stdout",
     "output_type": "stream",
     "text": [
      "p-value: 1.9345723918034906e-23\n"
     ]
    }
   ],
   "source": [
    "p_value = stats.norm.cdf(-9.976347592196307)\n",
    "\n",
    "# for a two-tailed test multiply the p-value by 2\n",
    "req_p = p_value*2\n",
    "print('p-value:', req_p)"
   ]
  },
  {
   "cell_type": "code",
   "execution_count": 28,
   "id": "f3645d96",
   "metadata": {},
   "outputs": [
    {
     "name": "stdout",
     "output_type": "stream",
     "text": [
      "Confidence interval: (39.29085409933694, 40.70914590066306)\n"
     ]
    }
   ],
   "source": [
    "print('Confidence interval:', stats.norm.interval(0.95, loc = samp_mean, scale = pop_std / np.sqrt(n)))"
   ]
  },
  {
   "cell_type": "markdown",
   "id": "8f105ec6",
   "metadata": {},
   "source": [
    "Here the z score is less than -1.96 and also the confidence interval do not contain the value in the null hypothesis (i.e. 40), thus we reject the null hypothesis and conclude that there is enough evidence to claim that the mean Age is different from 40."
   ]
  },
  {
   "cell_type": "markdown",
   "id": "868d87d3",
   "metadata": {},
   "source": [
    "Let us plot the acceptance and rejection region for a two-tailed test  with 95% confidence."
   ]
  },
  {
   "cell_type": "code",
   "execution_count": 29,
   "id": "770ec8f0",
   "metadata": {},
   "outputs": [
    {
     "data": {
      "image/png": "[encoded data removed]",
      "text/plain": [
       "<Figure size 432x288 with 1 Axes>"
      ]
     },
     "metadata": {
      "needs_background": "light"
     },
     "output_type": "display_data"
    }
   ],
   "source": [
    "X = stats.norm.rvs(size = 1000000, random_state = 20)\n",
    "\n",
    "ax = sns.distplot(a = X, hist = False, kde_kws = dict(cumulative=False))\n",
    "\n",
    "plt.ylim(0, 0.42)\n",
    "\n",
    "z = stats.norm.isf(q = 0.05/2)\n",
    "\n",
    "x, y = [z, z], [0, 0.3]\n",
    "plt.plot(x, y, color = 'black')\n",
    "\n",
    "x, y = [-z, -z], [0, 0.3]\n",
    "plt.plot(x, y, color = 'black')\n",
    "\n",
    "x, y = [z_score, z_score], [0, 0.013]\n",
    "plt.plot(x, y, color = 'black')\n",
    "\n",
    "l1 = ax.lines[0]\n",
    "x1 = l1.get_xydata()[:,0]\n",
    "y1 = l1.get_xydata()[:,1]\n",
    "\n",
    "ax.fill_between(x1[x1 >= z], y1[x1 >= z], color = 'lightblue')\n",
    "\n",
    "ax.fill_between(x1[x1 <= -z], y1[x1 <= -z], color = 'lightblue')\n",
    "\n",
    "plt.annotate(s = 'Mean (μ)', xy = (0, 0), xytext = (-0.3, 0.04), arrowprops = dict(facecolor = 'black', arrowstyle = 'simple'))\n",
    "\n",
    "plt.annotate(s = 'α/2 = 0.025\\n(Rejection Region for H0)', xy = (2.8, 0.004), xytext = (2.8, 0.055), \n",
    "             arrowprops = dict(facecolor = 'black', arrowstyle = 'simple'))\n",
    "\n",
    "plt.annotate(s = 'α/2 = 0.025\\n(Rejection Region for H0)', xy = (-2.8, 0.004), xytext = (-4.5, 0.055), \n",
    "             arrowprops = dict(facecolor = 'black', arrowstyle = 'simple'))\n",
    "\n",
    "plt.annotate(s = 'z_crit = '+ str(round(z,2)), xy = (z, 0), xytext = (z-1.2, 0.02), \n",
    "             arrowprops = dict(facecolor = 'black', arrowstyle = 'simple'))\n",
    "\n",
    "plt.annotate(s = 'z_crit = '+ str(round(-z,2)), xy = (-z, 0), xytext = (-z+0.3, 0.02), \n",
    "             arrowprops = dict(facecolor = 'black', arrowstyle = 'simple'))\n",
    "\n",
    "plt.text(x = -1.15, y = 0.2, s = 'Acceptance Region for H0 (1 - α)')\n",
    "\n",
    "plt.xticks(ticks = [-6, -4, -2, 0, 2, 4, 6, round(z_score,2)], \n",
    "           labels = [-6, -4, -2, 0, 2, 4, 6, 'z_test = '+str(round(z_score,2))])\n",
    "\n",
    "plt.xlabel('Z', fontsize = 15)\n",
    "plt.ylabel('Probability', fontsize = 15)\n",
    "plt.title('Two-Tailed Test', fontsize = 15)\n",
    "\n",
    "plt.show()"
   ]
  },
  {
   "cell_type": "markdown",
   "id": "89ba5c3c",
   "metadata": {},
   "source": [
    "# Age"
   ]
  },
  {
   "cell_type": "code",
   "execution_count": 30,
   "id": "9200ad83",
   "metadata": {},
   "outputs": [
    {
     "data": {
      "text/html": [
       "<div>\n",
       "<style scoped>\n",
       "    .dataframe tbody tr th:only-of-type {\n",
       "        vertical-align: middle;\n",
       "    }\n",
       "\n",
       "    .dataframe tbody tr th {\n",
       "        vertical-align: top;\n",
       "    }\n",
       "\n",
       "    .dataframe thead th {\n",
       "        text-align: right;\n",
       "    }\n",
       "</style>\n",
       "<table border=\"1\" class=\"dataframe\">\n",
       "  <thead>\n",
       "    <tr style=\"text-align: right;\">\n",
       "      <th></th>\n",
       "      <th>Patient_id</th>\n",
       "      <th>Oxy_level</th>\n",
       "      <th>Pulse_rate</th>\n",
       "      <th>Blood_Sugar</th>\n",
       "      <th>Age</th>\n",
       "      <th>Sex</th>\n",
       "      <th>Old_1</th>\n",
       "      <th>Old_2</th>\n",
       "      <th>Old_3</th>\n",
       "      <th>New_1</th>\n",
       "      <th>New_2</th>\n",
       "      <th>New_3</th>\n",
       "      <th>Age_group</th>\n",
       "    </tr>\n",
       "  </thead>\n",
       "  <tbody>\n",
       "    <tr>\n",
       "      <th>0</th>\n",
       "      <td>COVPAT0001</td>\n",
       "      <td>97.109182</td>\n",
       "      <td>109.156925</td>\n",
       "      <td>83</td>\n",
       "      <td>5</td>\n",
       "      <td>M</td>\n",
       "      <td>30.08</td>\n",
       "      <td>23.14</td>\n",
       "      <td>33.58</td>\n",
       "      <td>30.51</td>\n",
       "      <td>28.75</td>\n",
       "      <td>22.47</td>\n",
       "      <td>A</td>\n",
       "    </tr>\n",
       "    <tr>\n",
       "      <th>1</th>\n",
       "      <td>COVPAT0002</td>\n",
       "      <td>98.039265</td>\n",
       "      <td>109.481086</td>\n",
       "      <td>119</td>\n",
       "      <td>3</td>\n",
       "      <td>M</td>\n",
       "      <td>18.38</td>\n",
       "      <td>28.86</td>\n",
       "      <td>38.32</td>\n",
       "      <td>21.66</td>\n",
       "      <td>28.53</td>\n",
       "      <td>16.05</td>\n",
       "      <td>A</td>\n",
       "    </tr>\n",
       "    <tr>\n",
       "      <th>2</th>\n",
       "      <td>COVPAT0003</td>\n",
       "      <td>97.904030</td>\n",
       "      <td>110.428601</td>\n",
       "      <td>80</td>\n",
       "      <td>8</td>\n",
       "      <td>F</td>\n",
       "      <td>30.27</td>\n",
       "      <td>24.32</td>\n",
       "      <td>42.16</td>\n",
       "      <td>21.99</td>\n",
       "      <td>31.26</td>\n",
       "      <td>20.15</td>\n",
       "      <td>A</td>\n",
       "    </tr>\n",
       "    <tr>\n",
       "      <th>3</th>\n",
       "      <td>COVPAT0004</td>\n",
       "      <td>99.212383</td>\n",
       "      <td>110.048527</td>\n",
       "      <td>95</td>\n",
       "      <td>5</td>\n",
       "      <td>M</td>\n",
       "      <td>28.81</td>\n",
       "      <td>21.73</td>\n",
       "      <td>21.46</td>\n",
       "      <td>24.66</td>\n",
       "      <td>26.34</td>\n",
       "      <td>15.90</td>\n",
       "      <td>A</td>\n",
       "    </tr>\n",
       "    <tr>\n",
       "      <th>4</th>\n",
       "      <td>COVPAT0005</td>\n",
       "      <td>99.235056</td>\n",
       "      <td>110.180046</td>\n",
       "      <td>82</td>\n",
       "      <td>6</td>\n",
       "      <td>M</td>\n",
       "      <td>25.06</td>\n",
       "      <td>32.65</td>\n",
       "      <td>27.54</td>\n",
       "      <td>25.84</td>\n",
       "      <td>20.59</td>\n",
       "      <td>21.65</td>\n",
       "      <td>A</td>\n",
       "    </tr>\n",
       "    <tr>\n",
       "      <th>5</th>\n",
       "      <td>COVPAT0006</td>\n",
       "      <td>98.955697</td>\n",
       "      <td>110.725100</td>\n",
       "      <td>97</td>\n",
       "      <td>5</td>\n",
       "      <td>M</td>\n",
       "      <td>24.97</td>\n",
       "      <td>25.79</td>\n",
       "      <td>42.23</td>\n",
       "      <td>27.37</td>\n",
       "      <td>25.13</td>\n",
       "      <td>25.05</td>\n",
       "      <td>A</td>\n",
       "    </tr>\n",
       "    <tr>\n",
       "      <th>6</th>\n",
       "      <td>COVPAT0007</td>\n",
       "      <td>98.246181</td>\n",
       "      <td>109.927157</td>\n",
       "      <td>80</td>\n",
       "      <td>3</td>\n",
       "      <td>M</td>\n",
       "      <td>25.15</td>\n",
       "      <td>21.53</td>\n",
       "      <td>31.54</td>\n",
       "      <td>17.55</td>\n",
       "      <td>25.24</td>\n",
       "      <td>20.29</td>\n",
       "      <td>A</td>\n",
       "    </tr>\n",
       "    <tr>\n",
       "      <th>7</th>\n",
       "      <td>COVPAT0008</td>\n",
       "      <td>100.082687</td>\n",
       "      <td>109.694405</td>\n",
       "      <td>98</td>\n",
       "      <td>7</td>\n",
       "      <td>F</td>\n",
       "      <td>28.67</td>\n",
       "      <td>23.53</td>\n",
       "      <td>49.29</td>\n",
       "      <td>26.28</td>\n",
       "      <td>24.21</td>\n",
       "      <td>14.60</td>\n",
       "      <td>A</td>\n",
       "    </tr>\n",
       "    <tr>\n",
       "      <th>8</th>\n",
       "      <td>COVPAT0009</td>\n",
       "      <td>100.189262</td>\n",
       "      <td>110.339871</td>\n",
       "      <td>81</td>\n",
       "      <td>9</td>\n",
       "      <td>F</td>\n",
       "      <td>29.46</td>\n",
       "      <td>21.79</td>\n",
       "      <td>41.70</td>\n",
       "      <td>19.84</td>\n",
       "      <td>25.24</td>\n",
       "      <td>16.65</td>\n",
       "      <td>A</td>\n",
       "    </tr>\n",
       "    <tr>\n",
       "      <th>9</th>\n",
       "      <td>COVPAT0010</td>\n",
       "      <td>99.760662</td>\n",
       "      <td>109.761587</td>\n",
       "      <td>88</td>\n",
       "      <td>7</td>\n",
       "      <td>M</td>\n",
       "      <td>22.46</td>\n",
       "      <td>21.59</td>\n",
       "      <td>40.61</td>\n",
       "      <td>26.24</td>\n",
       "      <td>22.69</td>\n",
       "      <td>23.50</td>\n",
       "      <td>A</td>\n",
       "    </tr>\n",
       "  </tbody>\n",
       "</table>\n",
       "</div>"
      ],
      "text/plain": [
       "   Patient_id   Oxy_level  Pulse_rate  Blood_Sugar  Age Sex  Old_1  Old_2  \\\n",
       "0  COVPAT0001   97.109182  109.156925           83    5   M  30.08  23.14   \n",
       "1  COVPAT0002   98.039265  109.481086          119    3   M  18.38  28.86   \n",
       "2  COVPAT0003   97.904030  110.428601           80    8   F  30.27  24.32   \n",
       "3  COVPAT0004   99.212383  110.048527           95    5   M  28.81  21.73   \n",
       "4  COVPAT0005   99.235056  110.180046           82    6   M  25.06  32.65   \n",
       "5  COVPAT0006   98.955697  110.725100           97    5   M  24.97  25.79   \n",
       "6  COVPAT0007   98.246181  109.927157           80    3   M  25.15  21.53   \n",
       "7  COVPAT0008  100.082687  109.694405           98    7   F  28.67  23.53   \n",
       "8  COVPAT0009  100.189262  110.339871           81    9   F  29.46  21.79   \n",
       "9  COVPAT0010   99.760662  109.761587           88    7   M  22.46  21.59   \n",
       "\n",
       "   Old_3  New_1  New_2  New_3 Age_group  \n",
       "0  33.58  30.51  28.75  22.47         A  \n",
       "1  38.32  21.66  28.53  16.05         A  \n",
       "2  42.16  21.99  31.26  20.15         A  \n",
       "3  21.46  24.66  26.34  15.90         A  \n",
       "4  27.54  25.84  20.59  21.65         A  \n",
       "5  42.23  27.37  25.13  25.05         A  \n",
       "6  31.54  17.55  25.24  20.29         A  \n",
       "7  49.29  26.28  24.21  14.60         A  \n",
       "8  41.70  19.84  25.24  16.65         A  \n",
       "9  40.61  26.24  22.69  23.50         A  "
      ]
     },
     "execution_count": 30,
     "metadata": {},
     "output_type": "execute_result"
    }
   ],
   "source": [
    "Age_group = []\n",
    "for value in df_pharma[\"Age\"]:\n",
    "    if value<=12:\n",
    "        Age_group.append(\"A\")\n",
    "    elif value >12 and value <= 25:\n",
    "        Age_group.append(\"B\")\n",
    "    elif value >25 and value <= 40:\n",
    "        Age_group.append(\"C\")\n",
    "    elif value >40 and value <= 58:\n",
    "        Age_group.append(\"D\")\n",
    "    elif value>58:\n",
    "        Age_group.append(\"E\")\n",
    "    else:\n",
    "        Age_group.append(\"invalid\")\n",
    "        \n",
    "       \n",
    "df_pharma[\"Age_group\"] = Age_group   \n",
    "df_pharma.head(10)"
   ]
  },
  {
   "cell_type": "code",
   "execution_count": 31,
   "id": "632c9752",
   "metadata": {},
   "outputs": [
    {
     "data": {
      "text/plain": [
       "F    2544\n",
       "M    2456\n",
       "Name: Sex, dtype: int64"
      ]
     },
     "execution_count": 31,
     "metadata": {},
     "output_type": "execute_result"
    }
   ],
   "source": [
    "df_pharma.Sex.value_counts()"
   ]
  },
  {
   "cell_type": "code",
   "execution_count": 32,
   "id": "6ddf2d72",
   "metadata": {},
   "outputs": [
    {
     "data": {
      "text/plain": [
       "E    1969\n",
       "A     964\n",
       "D     835\n",
       "C     670\n",
       "B     562\n",
       "Name: Age_group, dtype: int64"
      ]
     },
     "execution_count": 32,
     "metadata": {},
     "output_type": "execute_result"
    }
   ],
   "source": [
    "df_pharma.Age_group.value_counts()"
   ]
  },
  {
   "cell_type": "markdown",
   "id": "cfb06b9c",
   "metadata": {},
   "source": [
    "# GROUP A"
   ]
  },
  {
   "cell_type": "code",
   "execution_count": 33,
   "id": "e47cd6cb",
   "metadata": {},
   "outputs": [],
   "source": [
    "sexF = df_pharma[(df_pharma['Sex'] == 'F')][(df_pharma['Age_group'] == 'A')]['Age']\n",
    "n_1 = len(sexF)\n",
    "nl_mean = np.mean(sexF)\n",
    "nl_std = statistics.stdev(sexF)\n",
    "sexM = df_pharma[(df_pharma['Sex'] == 'M')][(df_pharma['Age_group'] == 'A')]['Age']\n",
    "n_2 = len(sexM)\n",
    "nl_mean2 = np.mean(sexM)\n",
    "nl_std2 = statistics.stdev(sexM)"
   ]
  },
  {
   "cell_type": "code",
   "execution_count": 34,
   "id": "1ecaa9ea",
   "metadata": {},
   "outputs": [
    {
     "name": "stdout",
     "output_type": "stream",
     "text": [
      "Test statistic: 0.9496930241584778\n",
      "P-Value: 1.268962971184635e-17\n"
     ]
    }
   ],
   "source": [
    "stat, p_value = shapiro(df_pharma[(df_pharma['Age_group'] == 'A')]['Age'])\n",
    "print('Test statistic:', stat)\n",
    "print('P-Value:', p_value)"
   ]
  },
  {
   "cell_type": "code",
   "execution_count": 35,
   "id": "a48110a9",
   "metadata": {},
   "outputs": [
    {
     "name": "stdout",
     "output_type": "stream",
     "text": [
      "Test statistic: 3.124998529701531\n",
      "P-Value: 0.07741689029437024\n"
     ]
    }
   ],
   "source": [
    "stat, p_value = stats.levene(sexF, sexM)\n",
    "print('Test statistic:', stat)\n",
    "print('P-Value:', p_value)"
   ]
  },
  {
   "cell_type": "markdown",
   "id": "ca51a211",
   "metadata": {},
   "source": [
    "# GROUP B"
   ]
  },
  {
   "cell_type": "code",
   "execution_count": 36,
   "id": "b2ef2572",
   "metadata": {},
   "outputs": [
    {
     "name": "stdout",
     "output_type": "stream",
     "text": [
      "Test statistic: 0.9338072538375854\n",
      "P-Value: 4.4797425351758655e-15\n",
      "Test statistic: 0.6339484783251154\n",
      "P-Value: 0.426248066173354\n"
     ]
    }
   ],
   "source": [
    "sexFB = df_pharma[(df_pharma['Sex'] == 'F')][(df_pharma['Age_group'] == 'B')]['Age']\n",
    "n_1B = len(sexFB)\n",
    "nl_meanB = np.mean(sexFB)\n",
    "nl_stdB = statistics.stdev(sexFB)\n",
    "sexMB = df_pharma[(df_pharma['Sex'] == 'M')][(df_pharma['Age_group'] == 'B')]['Age']\n",
    "n_2B = len(sexMB)\n",
    "nl_mean2B = np.mean(sexMB)\n",
    "nl_std2B = statistics.stdev(sexMB)\n",
    "statB, p_valueB = shapiro(df_pharma[(df_pharma['Age_group'] == 'B')]['Age'])\n",
    "print('Test statistic:', statB)\n",
    "print('P-Value:', p_valueB)\n",
    "statB, p_valueB = stats.levene(sexFB, sexMB)\n",
    "print('Test statistic:', statB)\n",
    "print('P-Value:', p_valueB)"
   ]
  },
  {
   "cell_type": "markdown",
   "id": "9537b975",
   "metadata": {},
   "source": [
    "# GROUP C"
   ]
  },
  {
   "cell_type": "code",
   "execution_count": 37,
   "id": "bd1d2f4f",
   "metadata": {},
   "outputs": [
    {
     "name": "stdout",
     "output_type": "stream",
     "text": [
      "Test statistic: 0.9381119012832642\n",
      "P-Value: 4.614252214232796e-16\n",
      "Test statistic: 0.12207270797001915\n",
      "P-Value: 0.7269073655926956\n"
     ]
    }
   ],
   "source": [
    "sexFC = df_pharma[(df_pharma['Sex'] == 'F')][(df_pharma['Age_group'] == 'C')]['Age']\n",
    "n_1C = len(sexFC)\n",
    "nl_meanC = np.mean(sexFC)\n",
    "nl_stdC = statistics.stdev(sexFC)\n",
    "sexMC = df_pharma[(df_pharma['Sex'] == 'M')][(df_pharma['Age_group'] == 'C')]['Age']\n",
    "n_2C = len(sexMC)\n",
    "nl_mean2C = np.mean(sexMC)\n",
    "nl_std2C = statistics.stdev(sexMC)\n",
    "statC, p_valueC = shapiro(df_pharma[(df_pharma['Age_group'] == 'C')]['Age'])\n",
    "print('Test statistic:', statC)\n",
    "print('P-Value:', p_valueC)\n",
    "statC, p_valueC = stats.levene(sexFC, sexMC)\n",
    "print('Test statistic:', statC)\n",
    "print('P-Value:', p_valueC)"
   ]
  },
  {
   "cell_type": "markdown",
   "id": "10519f50",
   "metadata": {},
   "source": [
    "# GROUP D"
   ]
  },
  {
   "cell_type": "code",
   "execution_count": 38,
   "id": "f3efa2d6",
   "metadata": {},
   "outputs": [
    {
     "name": "stdout",
     "output_type": "stream",
     "text": [
      "Test statistic: 0.9387657642364502\n",
      "P-Value: 4.842914598239219e-18\n",
      "Test statistic: 0.0430093639440802\n",
      "P-Value: 0.83575832878635\n"
     ]
    }
   ],
   "source": [
    "sexFD = df_pharma[(df_pharma['Sex'] == 'F')][(df_pharma['Age_group'] == 'D')]['Age']\n",
    "n_1D = len(sexFD)\n",
    "nl_meanD = np.mean(sexFD)\n",
    "nl_stdD = statistics.stdev(sexFD)\n",
    "sexMD = df_pharma[(df_pharma['Sex'] == 'M')][(df_pharma['Age_group'] == 'D')]['Age']\n",
    "n_2D = len(sexMD)\n",
    "nl_mean2D = np.mean(sexMD)\n",
    "nl_std2D = statistics.stdev(sexMD)\n",
    "statD, p_valueD = shapiro(df_pharma[(df_pharma['Age_group'] == 'D')]['Age'])\n",
    "print('Test statistic:', statD)\n",
    "print('P-Value:', p_valueD)\n",
    "statD, p_valueD = stats.levene(sexFD, sexMD)\n",
    "print('Test statistic:', statD)\n",
    "print('P-Value:', p_valueD)"
   ]
  },
  {
   "cell_type": "markdown",
   "id": "136403b1",
   "metadata": {},
   "source": [
    "# GROUP E"
   ]
  },
  {
   "cell_type": "code",
   "execution_count": 39,
   "id": "2fb31f00",
   "metadata": {},
   "outputs": [
    {
     "name": "stdout",
     "output_type": "stream",
     "text": [
      "Test statistic: 0.9512972235679626\n",
      "P-Value: 4.5063043191645465e-25\n",
      "Test statistic: 0.5154714738483903\n",
      "P-Value: 0.47286510222517053\n"
     ]
    }
   ],
   "source": [
    "sexFE = df_pharma[(df_pharma['Sex'] == 'F')][(df_pharma['Age_group'] == 'E')]['Age']\n",
    "n_1E = len(sexFE)\n",
    "nl_meanE = np.mean(sexFE)\n",
    "nl_stdE = statistics.stdev(sexFE)\n",
    "sexME = df_pharma[(df_pharma['Sex'] == 'M')][(df_pharma['Age_group'] == 'E')]['Age']\n",
    "n_2E = len(sexME)\n",
    "nl_mean2E = np.mean(sexME)\n",
    "nl_std2E = statistics.stdev(sexME)\n",
    "statE, p_valueE = shapiro(df_pharma[(df_pharma['Age_group'] == 'E')]['Age'])\n",
    "print('Test statistic:', statE)\n",
    "print('P-Value:', p_valueE)\n",
    "statE, p_valueE = stats.levene(sexFE, sexME)\n",
    "print('Test statistic:', statE)\n",
    "print('P-Value:', p_valueE)"
   ]
  },
  {
   "cell_type": "markdown",
   "id": "918ddaea",
   "metadata": {},
   "source": [
    "From the above result, we can see that the p-value is greater than 0.05, thus we can say that the AGE of the POPULATION  are normally distributed."
   ]
  },
  {
   "cell_type": "markdown",
   "id": "331da487",
   "metadata": {},
   "source": [
    "# New Drug works better OR not"
   ]
  },
  {
   "cell_type": "code",
   "execution_count": 40,
   "id": "7e1571bc",
   "metadata": {},
   "outputs": [
    {
     "data": {
      "text/html": [
       "<div>\n",
       "<style scoped>\n",
       "    .dataframe tbody tr th:only-of-type {\n",
       "        vertical-align: middle;\n",
       "    }\n",
       "\n",
       "    .dataframe tbody tr th {\n",
       "        vertical-align: top;\n",
       "    }\n",
       "\n",
       "    .dataframe thead th {\n",
       "        text-align: right;\n",
       "    }\n",
       "</style>\n",
       "<table border=\"1\" class=\"dataframe\">\n",
       "  <thead>\n",
       "    <tr style=\"text-align: right;\">\n",
       "      <th></th>\n",
       "      <th>Patient_id</th>\n",
       "      <th>Oxy_level</th>\n",
       "      <th>Pulse_rate</th>\n",
       "      <th>Blood_Sugar</th>\n",
       "      <th>Age</th>\n",
       "      <th>Sex</th>\n",
       "      <th>Old_1</th>\n",
       "      <th>Old_2</th>\n",
       "      <th>Old_3</th>\n",
       "      <th>New_1</th>\n",
       "      <th>New_2</th>\n",
       "      <th>New_3</th>\n",
       "      <th>Age_group</th>\n",
       "    </tr>\n",
       "  </thead>\n",
       "  <tbody>\n",
       "    <tr>\n",
       "      <th>0</th>\n",
       "      <td>COVPAT0001</td>\n",
       "      <td>97.109182</td>\n",
       "      <td>109.156925</td>\n",
       "      <td>83</td>\n",
       "      <td>5</td>\n",
       "      <td>M</td>\n",
       "      <td>30.08</td>\n",
       "      <td>23.14</td>\n",
       "      <td>33.58</td>\n",
       "      <td>30.51</td>\n",
       "      <td>28.75</td>\n",
       "      <td>22.47</td>\n",
       "      <td>A</td>\n",
       "    </tr>\n",
       "    <tr>\n",
       "      <th>1</th>\n",
       "      <td>COVPAT0002</td>\n",
       "      <td>98.039265</td>\n",
       "      <td>109.481086</td>\n",
       "      <td>119</td>\n",
       "      <td>3</td>\n",
       "      <td>M</td>\n",
       "      <td>18.38</td>\n",
       "      <td>28.86</td>\n",
       "      <td>38.32</td>\n",
       "      <td>21.66</td>\n",
       "      <td>28.53</td>\n",
       "      <td>16.05</td>\n",
       "      <td>A</td>\n",
       "    </tr>\n",
       "    <tr>\n",
       "      <th>2</th>\n",
       "      <td>COVPAT0003</td>\n",
       "      <td>97.904030</td>\n",
       "      <td>110.428601</td>\n",
       "      <td>80</td>\n",
       "      <td>8</td>\n",
       "      <td>F</td>\n",
       "      <td>30.27</td>\n",
       "      <td>24.32</td>\n",
       "      <td>42.16</td>\n",
       "      <td>21.99</td>\n",
       "      <td>31.26</td>\n",
       "      <td>20.15</td>\n",
       "      <td>A</td>\n",
       "    </tr>\n",
       "    <tr>\n",
       "      <th>3</th>\n",
       "      <td>COVPAT0004</td>\n",
       "      <td>99.212383</td>\n",
       "      <td>110.048527</td>\n",
       "      <td>95</td>\n",
       "      <td>5</td>\n",
       "      <td>M</td>\n",
       "      <td>28.81</td>\n",
       "      <td>21.73</td>\n",
       "      <td>21.46</td>\n",
       "      <td>24.66</td>\n",
       "      <td>26.34</td>\n",
       "      <td>15.90</td>\n",
       "      <td>A</td>\n",
       "    </tr>\n",
       "    <tr>\n",
       "      <th>4</th>\n",
       "      <td>COVPAT0005</td>\n",
       "      <td>99.235056</td>\n",
       "      <td>110.180046</td>\n",
       "      <td>82</td>\n",
       "      <td>6</td>\n",
       "      <td>M</td>\n",
       "      <td>25.06</td>\n",
       "      <td>32.65</td>\n",
       "      <td>27.54</td>\n",
       "      <td>25.84</td>\n",
       "      <td>20.59</td>\n",
       "      <td>21.65</td>\n",
       "      <td>A</td>\n",
       "    </tr>\n",
       "    <tr>\n",
       "      <th>5</th>\n",
       "      <td>COVPAT0006</td>\n",
       "      <td>98.955697</td>\n",
       "      <td>110.725100</td>\n",
       "      <td>97</td>\n",
       "      <td>5</td>\n",
       "      <td>M</td>\n",
       "      <td>24.97</td>\n",
       "      <td>25.79</td>\n",
       "      <td>42.23</td>\n",
       "      <td>27.37</td>\n",
       "      <td>25.13</td>\n",
       "      <td>25.05</td>\n",
       "      <td>A</td>\n",
       "    </tr>\n",
       "    <tr>\n",
       "      <th>6</th>\n",
       "      <td>COVPAT0007</td>\n",
       "      <td>98.246181</td>\n",
       "      <td>109.927157</td>\n",
       "      <td>80</td>\n",
       "      <td>3</td>\n",
       "      <td>M</td>\n",
       "      <td>25.15</td>\n",
       "      <td>21.53</td>\n",
       "      <td>31.54</td>\n",
       "      <td>17.55</td>\n",
       "      <td>25.24</td>\n",
       "      <td>20.29</td>\n",
       "      <td>A</td>\n",
       "    </tr>\n",
       "    <tr>\n",
       "      <th>7</th>\n",
       "      <td>COVPAT0008</td>\n",
       "      <td>100.082687</td>\n",
       "      <td>109.694405</td>\n",
       "      <td>98</td>\n",
       "      <td>7</td>\n",
       "      <td>F</td>\n",
       "      <td>28.67</td>\n",
       "      <td>23.53</td>\n",
       "      <td>49.29</td>\n",
       "      <td>26.28</td>\n",
       "      <td>24.21</td>\n",
       "      <td>14.60</td>\n",
       "      <td>A</td>\n",
       "    </tr>\n",
       "    <tr>\n",
       "      <th>8</th>\n",
       "      <td>COVPAT0009</td>\n",
       "      <td>100.189262</td>\n",
       "      <td>110.339871</td>\n",
       "      <td>81</td>\n",
       "      <td>9</td>\n",
       "      <td>F</td>\n",
       "      <td>29.46</td>\n",
       "      <td>21.79</td>\n",
       "      <td>41.70</td>\n",
       "      <td>19.84</td>\n",
       "      <td>25.24</td>\n",
       "      <td>16.65</td>\n",
       "      <td>A</td>\n",
       "    </tr>\n",
       "    <tr>\n",
       "      <th>9</th>\n",
       "      <td>COVPAT0010</td>\n",
       "      <td>99.760662</td>\n",
       "      <td>109.761587</td>\n",
       "      <td>88</td>\n",
       "      <td>7</td>\n",
       "      <td>M</td>\n",
       "      <td>22.46</td>\n",
       "      <td>21.59</td>\n",
       "      <td>40.61</td>\n",
       "      <td>26.24</td>\n",
       "      <td>22.69</td>\n",
       "      <td>23.50</td>\n",
       "      <td>A</td>\n",
       "    </tr>\n",
       "  </tbody>\n",
       "</table>\n",
       "</div>"
      ],
      "text/plain": [
       "   Patient_id   Oxy_level  Pulse_rate  Blood_Sugar  Age Sex  Old_1  Old_2  \\\n",
       "0  COVPAT0001   97.109182  109.156925           83    5   M  30.08  23.14   \n",
       "1  COVPAT0002   98.039265  109.481086          119    3   M  18.38  28.86   \n",
       "2  COVPAT0003   97.904030  110.428601           80    8   F  30.27  24.32   \n",
       "3  COVPAT0004   99.212383  110.048527           95    5   M  28.81  21.73   \n",
       "4  COVPAT0005   99.235056  110.180046           82    6   M  25.06  32.65   \n",
       "5  COVPAT0006   98.955697  110.725100           97    5   M  24.97  25.79   \n",
       "6  COVPAT0007   98.246181  109.927157           80    3   M  25.15  21.53   \n",
       "7  COVPAT0008  100.082687  109.694405           98    7   F  28.67  23.53   \n",
       "8  COVPAT0009  100.189262  110.339871           81    9   F  29.46  21.79   \n",
       "9  COVPAT0010   99.760662  109.761587           88    7   M  22.46  21.59   \n",
       "\n",
       "   Old_3  New_1  New_2  New_3 Age_group  \n",
       "0  33.58  30.51  28.75  22.47         A  \n",
       "1  38.32  21.66  28.53  16.05         A  \n",
       "2  42.16  21.99  31.26  20.15         A  \n",
       "3  21.46  24.66  26.34  15.90         A  \n",
       "4  27.54  25.84  20.59  21.65         A  \n",
       "5  42.23  27.37  25.13  25.05         A  \n",
       "6  31.54  17.55  25.24  20.29         A  \n",
       "7  49.29  26.28  24.21  14.60         A  \n",
       "8  41.70  19.84  25.24  16.65         A  \n",
       "9  40.61  26.24  22.69  23.50         A  "
      ]
     },
     "execution_count": 40,
     "metadata": {},
     "output_type": "execute_result"
    }
   ],
   "source": [
    "df_pharma.head(10)"
   ]
  },
  {
   "cell_type": "code",
   "execution_count": 41,
   "id": "ddc05ced",
   "metadata": {},
   "outputs": [
    {
     "data": {
      "text/html": [
       "<div>\n",
       "<style scoped>\n",
       "    .dataframe tbody tr th:only-of-type {\n",
       "        vertical-align: middle;\n",
       "    }\n",
       "\n",
       "    .dataframe tbody tr th {\n",
       "        vertical-align: top;\n",
       "    }\n",
       "\n",
       "    .dataframe thead th {\n",
       "        text-align: right;\n",
       "    }\n",
       "</style>\n",
       "<table border=\"1\" class=\"dataframe\">\n",
       "  <thead>\n",
       "    <tr style=\"text-align: right;\">\n",
       "      <th></th>\n",
       "      <th>Patient_id</th>\n",
       "      <th>Oxy_level</th>\n",
       "      <th>Pulse_rate</th>\n",
       "      <th>Blood_Sugar</th>\n",
       "      <th>Age</th>\n",
       "      <th>Sex</th>\n",
       "      <th>Old_1</th>\n",
       "      <th>Old_2</th>\n",
       "      <th>Old_3</th>\n",
       "      <th>New_1</th>\n",
       "      <th>New_2</th>\n",
       "      <th>New_3</th>\n",
       "      <th>Age_group</th>\n",
       "      <th>avg_old_med</th>\n",
       "    </tr>\n",
       "  </thead>\n",
       "  <tbody>\n",
       "    <tr>\n",
       "      <th>0</th>\n",
       "      <td>COVPAT0001</td>\n",
       "      <td>97.109182</td>\n",
       "      <td>109.156925</td>\n",
       "      <td>83</td>\n",
       "      <td>5</td>\n",
       "      <td>M</td>\n",
       "      <td>30.08</td>\n",
       "      <td>23.14</td>\n",
       "      <td>33.58</td>\n",
       "      <td>30.51</td>\n",
       "      <td>28.75</td>\n",
       "      <td>22.47</td>\n",
       "      <td>A</td>\n",
       "      <td>28.933333</td>\n",
       "    </tr>\n",
       "    <tr>\n",
       "      <th>1</th>\n",
       "      <td>COVPAT0002</td>\n",
       "      <td>98.039265</td>\n",
       "      <td>109.481086</td>\n",
       "      <td>119</td>\n",
       "      <td>3</td>\n",
       "      <td>M</td>\n",
       "      <td>18.38</td>\n",
       "      <td>28.86</td>\n",
       "      <td>38.32</td>\n",
       "      <td>21.66</td>\n",
       "      <td>28.53</td>\n",
       "      <td>16.05</td>\n",
       "      <td>A</td>\n",
       "      <td>28.520000</td>\n",
       "    </tr>\n",
       "    <tr>\n",
       "      <th>2</th>\n",
       "      <td>COVPAT0003</td>\n",
       "      <td>97.904030</td>\n",
       "      <td>110.428601</td>\n",
       "      <td>80</td>\n",
       "      <td>8</td>\n",
       "      <td>F</td>\n",
       "      <td>30.27</td>\n",
       "      <td>24.32</td>\n",
       "      <td>42.16</td>\n",
       "      <td>21.99</td>\n",
       "      <td>31.26</td>\n",
       "      <td>20.15</td>\n",
       "      <td>A</td>\n",
       "      <td>32.250000</td>\n",
       "    </tr>\n",
       "    <tr>\n",
       "      <th>3</th>\n",
       "      <td>COVPAT0004</td>\n",
       "      <td>99.212383</td>\n",
       "      <td>110.048527</td>\n",
       "      <td>95</td>\n",
       "      <td>5</td>\n",
       "      <td>M</td>\n",
       "      <td>28.81</td>\n",
       "      <td>21.73</td>\n",
       "      <td>21.46</td>\n",
       "      <td>24.66</td>\n",
       "      <td>26.34</td>\n",
       "      <td>15.90</td>\n",
       "      <td>A</td>\n",
       "      <td>24.000000</td>\n",
       "    </tr>\n",
       "    <tr>\n",
       "      <th>4</th>\n",
       "      <td>COVPAT0005</td>\n",
       "      <td>99.235056</td>\n",
       "      <td>110.180046</td>\n",
       "      <td>82</td>\n",
       "      <td>6</td>\n",
       "      <td>M</td>\n",
       "      <td>25.06</td>\n",
       "      <td>32.65</td>\n",
       "      <td>27.54</td>\n",
       "      <td>25.84</td>\n",
       "      <td>20.59</td>\n",
       "      <td>21.65</td>\n",
       "      <td>A</td>\n",
       "      <td>28.416667</td>\n",
       "    </tr>\n",
       "    <tr>\n",
       "      <th>5</th>\n",
       "      <td>COVPAT0006</td>\n",
       "      <td>98.955697</td>\n",
       "      <td>110.725100</td>\n",
       "      <td>97</td>\n",
       "      <td>5</td>\n",
       "      <td>M</td>\n",
       "      <td>24.97</td>\n",
       "      <td>25.79</td>\n",
       "      <td>42.23</td>\n",
       "      <td>27.37</td>\n",
       "      <td>25.13</td>\n",
       "      <td>25.05</td>\n",
       "      <td>A</td>\n",
       "      <td>30.996667</td>\n",
       "    </tr>\n",
       "    <tr>\n",
       "      <th>6</th>\n",
       "      <td>COVPAT0007</td>\n",
       "      <td>98.246181</td>\n",
       "      <td>109.927157</td>\n",
       "      <td>80</td>\n",
       "      <td>3</td>\n",
       "      <td>M</td>\n",
       "      <td>25.15</td>\n",
       "      <td>21.53</td>\n",
       "      <td>31.54</td>\n",
       "      <td>17.55</td>\n",
       "      <td>25.24</td>\n",
       "      <td>20.29</td>\n",
       "      <td>A</td>\n",
       "      <td>26.073333</td>\n",
       "    </tr>\n",
       "    <tr>\n",
       "      <th>7</th>\n",
       "      <td>COVPAT0008</td>\n",
       "      <td>100.082687</td>\n",
       "      <td>109.694405</td>\n",
       "      <td>98</td>\n",
       "      <td>7</td>\n",
       "      <td>F</td>\n",
       "      <td>28.67</td>\n",
       "      <td>23.53</td>\n",
       "      <td>49.29</td>\n",
       "      <td>26.28</td>\n",
       "      <td>24.21</td>\n",
       "      <td>14.60</td>\n",
       "      <td>A</td>\n",
       "      <td>33.830000</td>\n",
       "    </tr>\n",
       "    <tr>\n",
       "      <th>8</th>\n",
       "      <td>COVPAT0009</td>\n",
       "      <td>100.189262</td>\n",
       "      <td>110.339871</td>\n",
       "      <td>81</td>\n",
       "      <td>9</td>\n",
       "      <td>F</td>\n",
       "      <td>29.46</td>\n",
       "      <td>21.79</td>\n",
       "      <td>41.70</td>\n",
       "      <td>19.84</td>\n",
       "      <td>25.24</td>\n",
       "      <td>16.65</td>\n",
       "      <td>A</td>\n",
       "      <td>30.983333</td>\n",
       "    </tr>\n",
       "    <tr>\n",
       "      <th>9</th>\n",
       "      <td>COVPAT0010</td>\n",
       "      <td>99.760662</td>\n",
       "      <td>109.761587</td>\n",
       "      <td>88</td>\n",
       "      <td>7</td>\n",
       "      <td>M</td>\n",
       "      <td>22.46</td>\n",
       "      <td>21.59</td>\n",
       "      <td>40.61</td>\n",
       "      <td>26.24</td>\n",
       "      <td>22.69</td>\n",
       "      <td>23.50</td>\n",
       "      <td>A</td>\n",
       "      <td>28.220000</td>\n",
       "    </tr>\n",
       "  </tbody>\n",
       "</table>\n",
       "</div>"
      ],
      "text/plain": [
       "   Patient_id   Oxy_level  Pulse_rate  Blood_Sugar  Age Sex  Old_1  Old_2  \\\n",
       "0  COVPAT0001   97.109182  109.156925           83    5   M  30.08  23.14   \n",
       "1  COVPAT0002   98.039265  109.481086          119    3   M  18.38  28.86   \n",
       "2  COVPAT0003   97.904030  110.428601           80    8   F  30.27  24.32   \n",
       "3  COVPAT0004   99.212383  110.048527           95    5   M  28.81  21.73   \n",
       "4  COVPAT0005   99.235056  110.180046           82    6   M  25.06  32.65   \n",
       "5  COVPAT0006   98.955697  110.725100           97    5   M  24.97  25.79   \n",
       "6  COVPAT0007   98.246181  109.927157           80    3   M  25.15  21.53   \n",
       "7  COVPAT0008  100.082687  109.694405           98    7   F  28.67  23.53   \n",
       "8  COVPAT0009  100.189262  110.339871           81    9   F  29.46  21.79   \n",
       "9  COVPAT0010   99.760662  109.761587           88    7   M  22.46  21.59   \n",
       "\n",
       "   Old_3  New_1  New_2  New_3 Age_group  avg_old_med  \n",
       "0  33.58  30.51  28.75  22.47         A    28.933333  \n",
       "1  38.32  21.66  28.53  16.05         A    28.520000  \n",
       "2  42.16  21.99  31.26  20.15         A    32.250000  \n",
       "3  21.46  24.66  26.34  15.90         A    24.000000  \n",
       "4  27.54  25.84  20.59  21.65         A    28.416667  \n",
       "5  42.23  27.37  25.13  25.05         A    30.996667  \n",
       "6  31.54  17.55  25.24  20.29         A    26.073333  \n",
       "7  49.29  26.28  24.21  14.60         A    33.830000  \n",
       "8  41.70  19.84  25.24  16.65         A    30.983333  \n",
       "9  40.61  26.24  22.69  23.50         A    28.220000  "
      ]
     },
     "execution_count": 41,
     "metadata": {},
     "output_type": "execute_result"
    }
   ],
   "source": [
    "df_pharma['avg_old_med']=df_pharma[['Old_1', 'Old_2','Old_3']].mean(axis=1)\n",
    "df_pharma.head(10)"
   ]
  },
  {
   "cell_type": "code",
   "execution_count": 42,
   "id": "8ebf8667",
   "metadata": {},
   "outputs": [
    {
     "data": {
      "text/html": [
       "<div>\n",
       "<style scoped>\n",
       "    .dataframe tbody tr th:only-of-type {\n",
       "        vertical-align: middle;\n",
       "    }\n",
       "\n",
       "    .dataframe tbody tr th {\n",
       "        vertical-align: top;\n",
       "    }\n",
       "\n",
       "    .dataframe thead th {\n",
       "        text-align: right;\n",
       "    }\n",
       "</style>\n",
       "<table border=\"1\" class=\"dataframe\">\n",
       "  <thead>\n",
       "    <tr style=\"text-align: right;\">\n",
       "      <th></th>\n",
       "      <th>Patient_id</th>\n",
       "      <th>Oxy_level</th>\n",
       "      <th>Pulse_rate</th>\n",
       "      <th>Blood_Sugar</th>\n",
       "      <th>Age</th>\n",
       "      <th>Sex</th>\n",
       "      <th>Old_1</th>\n",
       "      <th>Old_2</th>\n",
       "      <th>Old_3</th>\n",
       "      <th>New_1</th>\n",
       "      <th>New_2</th>\n",
       "      <th>New_3</th>\n",
       "      <th>Age_group</th>\n",
       "      <th>avg_old_med</th>\n",
       "      <th>avg_new_med</th>\n",
       "    </tr>\n",
       "  </thead>\n",
       "  <tbody>\n",
       "    <tr>\n",
       "      <th>0</th>\n",
       "      <td>COVPAT0001</td>\n",
       "      <td>97.109182</td>\n",
       "      <td>109.156925</td>\n",
       "      <td>83</td>\n",
       "      <td>5</td>\n",
       "      <td>M</td>\n",
       "      <td>30.08</td>\n",
       "      <td>23.14</td>\n",
       "      <td>33.58</td>\n",
       "      <td>30.51</td>\n",
       "      <td>28.75</td>\n",
       "      <td>22.47</td>\n",
       "      <td>A</td>\n",
       "      <td>28.933333</td>\n",
       "      <td>27.243333</td>\n",
       "    </tr>\n",
       "    <tr>\n",
       "      <th>1</th>\n",
       "      <td>COVPAT0002</td>\n",
       "      <td>98.039265</td>\n",
       "      <td>109.481086</td>\n",
       "      <td>119</td>\n",
       "      <td>3</td>\n",
       "      <td>M</td>\n",
       "      <td>18.38</td>\n",
       "      <td>28.86</td>\n",
       "      <td>38.32</td>\n",
       "      <td>21.66</td>\n",
       "      <td>28.53</td>\n",
       "      <td>16.05</td>\n",
       "      <td>A</td>\n",
       "      <td>28.520000</td>\n",
       "      <td>22.080000</td>\n",
       "    </tr>\n",
       "    <tr>\n",
       "      <th>2</th>\n",
       "      <td>COVPAT0003</td>\n",
       "      <td>97.904030</td>\n",
       "      <td>110.428601</td>\n",
       "      <td>80</td>\n",
       "      <td>8</td>\n",
       "      <td>F</td>\n",
       "      <td>30.27</td>\n",
       "      <td>24.32</td>\n",
       "      <td>42.16</td>\n",
       "      <td>21.99</td>\n",
       "      <td>31.26</td>\n",
       "      <td>20.15</td>\n",
       "      <td>A</td>\n",
       "      <td>32.250000</td>\n",
       "      <td>24.466667</td>\n",
       "    </tr>\n",
       "    <tr>\n",
       "      <th>3</th>\n",
       "      <td>COVPAT0004</td>\n",
       "      <td>99.212383</td>\n",
       "      <td>110.048527</td>\n",
       "      <td>95</td>\n",
       "      <td>5</td>\n",
       "      <td>M</td>\n",
       "      <td>28.81</td>\n",
       "      <td>21.73</td>\n",
       "      <td>21.46</td>\n",
       "      <td>24.66</td>\n",
       "      <td>26.34</td>\n",
       "      <td>15.90</td>\n",
       "      <td>A</td>\n",
       "      <td>24.000000</td>\n",
       "      <td>22.300000</td>\n",
       "    </tr>\n",
       "    <tr>\n",
       "      <th>4</th>\n",
       "      <td>COVPAT0005</td>\n",
       "      <td>99.235056</td>\n",
       "      <td>110.180046</td>\n",
       "      <td>82</td>\n",
       "      <td>6</td>\n",
       "      <td>M</td>\n",
       "      <td>25.06</td>\n",
       "      <td>32.65</td>\n",
       "      <td>27.54</td>\n",
       "      <td>25.84</td>\n",
       "      <td>20.59</td>\n",
       "      <td>21.65</td>\n",
       "      <td>A</td>\n",
       "      <td>28.416667</td>\n",
       "      <td>22.693333</td>\n",
       "    </tr>\n",
       "    <tr>\n",
       "      <th>5</th>\n",
       "      <td>COVPAT0006</td>\n",
       "      <td>98.955697</td>\n",
       "      <td>110.725100</td>\n",
       "      <td>97</td>\n",
       "      <td>5</td>\n",
       "      <td>M</td>\n",
       "      <td>24.97</td>\n",
       "      <td>25.79</td>\n",
       "      <td>42.23</td>\n",
       "      <td>27.37</td>\n",
       "      <td>25.13</td>\n",
       "      <td>25.05</td>\n",
       "      <td>A</td>\n",
       "      <td>30.996667</td>\n",
       "      <td>25.850000</td>\n",
       "    </tr>\n",
       "    <tr>\n",
       "      <th>6</th>\n",
       "      <td>COVPAT0007</td>\n",
       "      <td>98.246181</td>\n",
       "      <td>109.927157</td>\n",
       "      <td>80</td>\n",
       "      <td>3</td>\n",
       "      <td>M</td>\n",
       "      <td>25.15</td>\n",
       "      <td>21.53</td>\n",
       "      <td>31.54</td>\n",
       "      <td>17.55</td>\n",
       "      <td>25.24</td>\n",
       "      <td>20.29</td>\n",
       "      <td>A</td>\n",
       "      <td>26.073333</td>\n",
       "      <td>21.026667</td>\n",
       "    </tr>\n",
       "    <tr>\n",
       "      <th>7</th>\n",
       "      <td>COVPAT0008</td>\n",
       "      <td>100.082687</td>\n",
       "      <td>109.694405</td>\n",
       "      <td>98</td>\n",
       "      <td>7</td>\n",
       "      <td>F</td>\n",
       "      <td>28.67</td>\n",
       "      <td>23.53</td>\n",
       "      <td>49.29</td>\n",
       "      <td>26.28</td>\n",
       "      <td>24.21</td>\n",
       "      <td>14.60</td>\n",
       "      <td>A</td>\n",
       "      <td>33.830000</td>\n",
       "      <td>21.696667</td>\n",
       "    </tr>\n",
       "    <tr>\n",
       "      <th>8</th>\n",
       "      <td>COVPAT0009</td>\n",
       "      <td>100.189262</td>\n",
       "      <td>110.339871</td>\n",
       "      <td>81</td>\n",
       "      <td>9</td>\n",
       "      <td>F</td>\n",
       "      <td>29.46</td>\n",
       "      <td>21.79</td>\n",
       "      <td>41.70</td>\n",
       "      <td>19.84</td>\n",
       "      <td>25.24</td>\n",
       "      <td>16.65</td>\n",
       "      <td>A</td>\n",
       "      <td>30.983333</td>\n",
       "      <td>20.576667</td>\n",
       "    </tr>\n",
       "    <tr>\n",
       "      <th>9</th>\n",
       "      <td>COVPAT0010</td>\n",
       "      <td>99.760662</td>\n",
       "      <td>109.761587</td>\n",
       "      <td>88</td>\n",
       "      <td>7</td>\n",
       "      <td>M</td>\n",
       "      <td>22.46</td>\n",
       "      <td>21.59</td>\n",
       "      <td>40.61</td>\n",
       "      <td>26.24</td>\n",
       "      <td>22.69</td>\n",
       "      <td>23.50</td>\n",
       "      <td>A</td>\n",
       "      <td>28.220000</td>\n",
       "      <td>24.143333</td>\n",
       "    </tr>\n",
       "  </tbody>\n",
       "</table>\n",
       "</div>"
      ],
      "text/plain": [
       "   Patient_id   Oxy_level  Pulse_rate  Blood_Sugar  Age Sex  Old_1  Old_2  \\\n",
       "0  COVPAT0001   97.109182  109.156925           83    5   M  30.08  23.14   \n",
       "1  COVPAT0002   98.039265  109.481086          119    3   M  18.38  28.86   \n",
       "2  COVPAT0003   97.904030  110.428601           80    8   F  30.27  24.32   \n",
       "3  COVPAT0004   99.212383  110.048527           95    5   M  28.81  21.73   \n",
       "4  COVPAT0005   99.235056  110.180046           82    6   M  25.06  32.65   \n",
       "5  COVPAT0006   98.955697  110.725100           97    5   M  24.97  25.79   \n",
       "6  COVPAT0007   98.246181  109.927157           80    3   M  25.15  21.53   \n",
       "7  COVPAT0008  100.082687  109.694405           98    7   F  28.67  23.53   \n",
       "8  COVPAT0009  100.189262  110.339871           81    9   F  29.46  21.79   \n",
       "9  COVPAT0010   99.760662  109.761587           88    7   M  22.46  21.59   \n",
       "\n",
       "   Old_3  New_1  New_2  New_3 Age_group  avg_old_med  avg_new_med  \n",
       "0  33.58  30.51  28.75  22.47         A    28.933333    27.243333  \n",
       "1  38.32  21.66  28.53  16.05         A    28.520000    22.080000  \n",
       "2  42.16  21.99  31.26  20.15         A    32.250000    24.466667  \n",
       "3  21.46  24.66  26.34  15.90         A    24.000000    22.300000  \n",
       "4  27.54  25.84  20.59  21.65         A    28.416667    22.693333  \n",
       "5  42.23  27.37  25.13  25.05         A    30.996667    25.850000  \n",
       "6  31.54  17.55  25.24  20.29         A    26.073333    21.026667  \n",
       "7  49.29  26.28  24.21  14.60         A    33.830000    21.696667  \n",
       "8  41.70  19.84  25.24  16.65         A    30.983333    20.576667  \n",
       "9  40.61  26.24  22.69  23.50         A    28.220000    24.143333  "
      ]
     },
     "execution_count": 42,
     "metadata": {},
     "output_type": "execute_result"
    }
   ],
   "source": [
    "df_pharma['avg_new_med']=df_pharma[['New_1', 'New_2','New_3']].mean(axis=1)\n",
    "df_pharma.head(10)"
   ]
  },
  {
   "cell_type": "code",
   "execution_count": 43,
   "id": "259e7157",
   "metadata": {},
   "outputs": [],
   "source": [
    "old_pharma = df_pharma['avg_old_med']\n",
    "\n",
    "n_1 = len(old_pharma)\n",
    "\n",
    "old_mean = np.mean(old_pharma)\n",
    "\n",
    "old_std = statistics.stdev(old_pharma)\n",
    "\n",
    "new_pharma = df_pharma['avg_new_med']\n",
    "\n",
    "n_2 = len(new_pharma)\n",
    "\n",
    "new_mean = np.mean(new_pharma)\n",
    "\n",
    "new_std = statistics.stdev(new_pharma)"
   ]
  },
  {
   "cell_type": "markdown",
   "id": "01a687ff",
   "metadata": {},
   "source": [
    "The null and alternative hypothesis is:\n",
    "\n",
    "H<sub>0</sub>: $\\mu_{1} - \\mu_{2} \\leq 0$ <br>\n",
    "H<sub>1</sub>: $\\mu_{1} - \\mu_{2} > 0$ \n",
    "\n",
    "Here ⍺ = 0.05, for a one-tailed test calculate the critical z-value."
   ]
  },
  {
   "cell_type": "code",
   "execution_count": 44,
   "id": "15afbcc0",
   "metadata": {},
   "outputs": [
    {
     "name": "stdout",
     "output_type": "stream",
     "text": [
      "Critical value for one-tailed Z-test: 1.64\n"
     ]
    }
   ],
   "source": [
    "z_val = np.abs(round(stats.norm.isf(q = 0.05), 2))\n",
    "\n",
    "print('Critical value for one-tailed Z-test:', z_val)"
   ]
  },
  {
   "cell_type": "code",
   "execution_count": 45,
   "id": "d33b7bd4",
   "metadata": {},
   "outputs": [
    {
     "name": "stdout",
     "output_type": "stream",
     "text": [
      "Z-score:  -106.53706251851877\n",
      "p-value:  1.0\n"
     ]
    }
   ],
   "source": [
    "z_score, pval = stests.ztest( x1 = new_pharma,x2 = old_pharma, value = 0, alternative = 'larger')\n",
    "\n",
    "print(\"Z-score: \", z_score)\n",
    "print(\"p-value: \", pval)"
   ]
  },
  {
   "cell_type": "code",
   "execution_count": 46,
   "id": "9dabc108",
   "metadata": {},
   "outputs": [
    {
     "name": "stdout",
     "output_type": "stream",
     "text": [
      "Confidence interval: (-7.913481629303639, -5.8462037040296195)\n"
     ]
    }
   ],
   "source": [
    "print('Confidence interval:', stats.norm.interval(0.95, loc = new_mean - old_mean, \n",
    "                                                scale = np.sqrt(((new_mean**2) / n_1) + ((old_mean**2) / n_2))))"
   ]
  },
  {
   "cell_type": "markdown",
   "id": "6d71a0f1",
   "metadata": {},
   "source": [
    "Here the z score is less than 1.64, the p-value is greater than 0.01, also the confidence interval contains the value in the null hypothesis (i.e. 0), thus we fail to reject (i.e. accept) the null hypothesis and we do not have enough evidence to conclude that the claim of the new medicine better than the old medicine is correct."
   ]
  },
  {
   "cell_type": "code",
   "execution_count": 47,
   "id": "f279450f",
   "metadata": {},
   "outputs": [
    {
     "data": {
      "image/png": "[encoded data removed]",
      "text/plain": [
       "<Figure size 432x288 with 1 Axes>"
      ]
     },
     "metadata": {
      "needs_background": "light"
     },
     "output_type": "display_data"
    }
   ],
   "source": [
    "\n",
    "X = stats.norm.rvs(size = 2000000, random_state = 18)\n",
    "\n",
    "ax = sns.distplot(a = X, hist = False, kde_kws = dict(cumulative=False))\n",
    "\n",
    "plt.ylim(0, 0.42)\n",
    "\n",
    "z = stats.norm.isf(q = 0.05)\n",
    "\n",
    "x, y = [z, z], [0, 0.3]\n",
    "plt.plot(x, y, color = 'black')\n",
    "\n",
    "x, y = [z_score, z_score], [0, 0.03]\n",
    "plt.plot(x, y, color = 'black')\n",
    "\n",
    "l1 = ax.lines[0]\n",
    "x1 = l1.get_xydata()[:,0]\n",
    "y1 = l1.get_xydata()[:,1]\n",
    "\n",
    "ax.fill_between(x1[x1 >= z], y1[x1 >= z], color = 'lightblue')\n",
    "\n",
    "plt.annotate(s = 'α = 0.05\\n(Rejection Region for H0)', xy = (2.5, 0.008), xytext = (2.5, 0.058), \n",
    "             arrowprops = dict(facecolor = 'black', arrowstyle = 'simple'))\n",
    "\n",
    "plt.annotate(s = 'z_crit = '+ str(round(z,2)), xy = (z, 0.2), xytext = (z-1.1, 0.24), \n",
    "             arrowprops = dict(facecolor = 'black', arrowstyle = 'simple'))\n",
    "\n",
    "\n",
    "plt.text(x = -1.1, y = 0.2, s = 'Acceptance Region for H0 (1 - α)')\n",
    "\n",
    "\n",
    "plt.xticks(ticks = [-4, -2, 2, 4, round(z_score,2)], \n",
    "           labels = [-4, -2, 2, 4, 'z_test = '+str(round(z_score,2))])\n",
    "\n",
    "\n",
    "plt.xlabel('Z', fontsize = 15)\n",
    "plt.ylabel('Probability', fontsize = 15)\n",
    "plt.title('Right-Tailed Test', fontsize = 15)\n",
    "\n",
    "plt.show()"
   ]
  },
  {
   "cell_type": "markdown",
   "id": "29ab4551",
   "metadata": {},
   "source": [
    "# GRADUAL PROGRESS OF MEDICINE"
   ]
  },
  {
   "cell_type": "markdown",
   "id": "486a3e48",
   "metadata": {},
   "source": [
    "# new drug 1st phase vs old drug 1st phase\n"
   ]
  },
  {
   "cell_type": "code",
   "execution_count": 48,
   "id": "0973c2d5",
   "metadata": {},
   "outputs": [
    {
     "data": {
      "text/html": [
       "<div>\n",
       "<style scoped>\n",
       "    .dataframe tbody tr th:only-of-type {\n",
       "        vertical-align: middle;\n",
       "    }\n",
       "\n",
       "    .dataframe tbody tr th {\n",
       "        vertical-align: top;\n",
       "    }\n",
       "\n",
       "    .dataframe thead th {\n",
       "        text-align: right;\n",
       "    }\n",
       "</style>\n",
       "<table border=\"1\" class=\"dataframe\">\n",
       "  <thead>\n",
       "    <tr style=\"text-align: right;\">\n",
       "      <th></th>\n",
       "      <th>Patient_id</th>\n",
       "      <th>Oxy_level</th>\n",
       "      <th>Pulse_rate</th>\n",
       "      <th>Blood_Sugar</th>\n",
       "      <th>Age</th>\n",
       "      <th>Sex</th>\n",
       "      <th>Old_1</th>\n",
       "      <th>Old_2</th>\n",
       "      <th>Old_3</th>\n",
       "      <th>New_1</th>\n",
       "      <th>New_2</th>\n",
       "      <th>New_3</th>\n",
       "      <th>Age_group</th>\n",
       "      <th>avg_old_med</th>\n",
       "      <th>avg_new_med</th>\n",
       "    </tr>\n",
       "  </thead>\n",
       "  <tbody>\n",
       "    <tr>\n",
       "      <th>0</th>\n",
       "      <td>COVPAT0001</td>\n",
       "      <td>97.109182</td>\n",
       "      <td>109.156925</td>\n",
       "      <td>83</td>\n",
       "      <td>5</td>\n",
       "      <td>M</td>\n",
       "      <td>30.08</td>\n",
       "      <td>23.14</td>\n",
       "      <td>33.58</td>\n",
       "      <td>30.51</td>\n",
       "      <td>28.75</td>\n",
       "      <td>22.47</td>\n",
       "      <td>A</td>\n",
       "      <td>28.933333</td>\n",
       "      <td>27.243333</td>\n",
       "    </tr>\n",
       "    <tr>\n",
       "      <th>1</th>\n",
       "      <td>COVPAT0002</td>\n",
       "      <td>98.039265</td>\n",
       "      <td>109.481086</td>\n",
       "      <td>119</td>\n",
       "      <td>3</td>\n",
       "      <td>M</td>\n",
       "      <td>18.38</td>\n",
       "      <td>28.86</td>\n",
       "      <td>38.32</td>\n",
       "      <td>21.66</td>\n",
       "      <td>28.53</td>\n",
       "      <td>16.05</td>\n",
       "      <td>A</td>\n",
       "      <td>28.520000</td>\n",
       "      <td>22.080000</td>\n",
       "    </tr>\n",
       "    <tr>\n",
       "      <th>2</th>\n",
       "      <td>COVPAT0003</td>\n",
       "      <td>97.904030</td>\n",
       "      <td>110.428601</td>\n",
       "      <td>80</td>\n",
       "      <td>8</td>\n",
       "      <td>F</td>\n",
       "      <td>30.27</td>\n",
       "      <td>24.32</td>\n",
       "      <td>42.16</td>\n",
       "      <td>21.99</td>\n",
       "      <td>31.26</td>\n",
       "      <td>20.15</td>\n",
       "      <td>A</td>\n",
       "      <td>32.250000</td>\n",
       "      <td>24.466667</td>\n",
       "    </tr>\n",
       "    <tr>\n",
       "      <th>3</th>\n",
       "      <td>COVPAT0004</td>\n",
       "      <td>99.212383</td>\n",
       "      <td>110.048527</td>\n",
       "      <td>95</td>\n",
       "      <td>5</td>\n",
       "      <td>M</td>\n",
       "      <td>28.81</td>\n",
       "      <td>21.73</td>\n",
       "      <td>21.46</td>\n",
       "      <td>24.66</td>\n",
       "      <td>26.34</td>\n",
       "      <td>15.90</td>\n",
       "      <td>A</td>\n",
       "      <td>24.000000</td>\n",
       "      <td>22.300000</td>\n",
       "    </tr>\n",
       "    <tr>\n",
       "      <th>4</th>\n",
       "      <td>COVPAT0005</td>\n",
       "      <td>99.235056</td>\n",
       "      <td>110.180046</td>\n",
       "      <td>82</td>\n",
       "      <td>6</td>\n",
       "      <td>M</td>\n",
       "      <td>25.06</td>\n",
       "      <td>32.65</td>\n",
       "      <td>27.54</td>\n",
       "      <td>25.84</td>\n",
       "      <td>20.59</td>\n",
       "      <td>21.65</td>\n",
       "      <td>A</td>\n",
       "      <td>28.416667</td>\n",
       "      <td>22.693333</td>\n",
       "    </tr>\n",
       "    <tr>\n",
       "      <th>5</th>\n",
       "      <td>COVPAT0006</td>\n",
       "      <td>98.955697</td>\n",
       "      <td>110.725100</td>\n",
       "      <td>97</td>\n",
       "      <td>5</td>\n",
       "      <td>M</td>\n",
       "      <td>24.97</td>\n",
       "      <td>25.79</td>\n",
       "      <td>42.23</td>\n",
       "      <td>27.37</td>\n",
       "      <td>25.13</td>\n",
       "      <td>25.05</td>\n",
       "      <td>A</td>\n",
       "      <td>30.996667</td>\n",
       "      <td>25.850000</td>\n",
       "    </tr>\n",
       "    <tr>\n",
       "      <th>6</th>\n",
       "      <td>COVPAT0007</td>\n",
       "      <td>98.246181</td>\n",
       "      <td>109.927157</td>\n",
       "      <td>80</td>\n",
       "      <td>3</td>\n",
       "      <td>M</td>\n",
       "      <td>25.15</td>\n",
       "      <td>21.53</td>\n",
       "      <td>31.54</td>\n",
       "      <td>17.55</td>\n",
       "      <td>25.24</td>\n",
       "      <td>20.29</td>\n",
       "      <td>A</td>\n",
       "      <td>26.073333</td>\n",
       "      <td>21.026667</td>\n",
       "    </tr>\n",
       "    <tr>\n",
       "      <th>7</th>\n",
       "      <td>COVPAT0008</td>\n",
       "      <td>100.082687</td>\n",
       "      <td>109.694405</td>\n",
       "      <td>98</td>\n",
       "      <td>7</td>\n",
       "      <td>F</td>\n",
       "      <td>28.67</td>\n",
       "      <td>23.53</td>\n",
       "      <td>49.29</td>\n",
       "      <td>26.28</td>\n",
       "      <td>24.21</td>\n",
       "      <td>14.60</td>\n",
       "      <td>A</td>\n",
       "      <td>33.830000</td>\n",
       "      <td>21.696667</td>\n",
       "    </tr>\n",
       "    <tr>\n",
       "      <th>8</th>\n",
       "      <td>COVPAT0009</td>\n",
       "      <td>100.189262</td>\n",
       "      <td>110.339871</td>\n",
       "      <td>81</td>\n",
       "      <td>9</td>\n",
       "      <td>F</td>\n",
       "      <td>29.46</td>\n",
       "      <td>21.79</td>\n",
       "      <td>41.70</td>\n",
       "      <td>19.84</td>\n",
       "      <td>25.24</td>\n",
       "      <td>16.65</td>\n",
       "      <td>A</td>\n",
       "      <td>30.983333</td>\n",
       "      <td>20.576667</td>\n",
       "    </tr>\n",
       "    <tr>\n",
       "      <th>9</th>\n",
       "      <td>COVPAT0010</td>\n",
       "      <td>99.760662</td>\n",
       "      <td>109.761587</td>\n",
       "      <td>88</td>\n",
       "      <td>7</td>\n",
       "      <td>M</td>\n",
       "      <td>22.46</td>\n",
       "      <td>21.59</td>\n",
       "      <td>40.61</td>\n",
       "      <td>26.24</td>\n",
       "      <td>22.69</td>\n",
       "      <td>23.50</td>\n",
       "      <td>A</td>\n",
       "      <td>28.220000</td>\n",
       "      <td>24.143333</td>\n",
       "    </tr>\n",
       "  </tbody>\n",
       "</table>\n",
       "</div>"
      ],
      "text/plain": [
       "   Patient_id   Oxy_level  Pulse_rate  Blood_Sugar  Age Sex  Old_1  Old_2  \\\n",
       "0  COVPAT0001   97.109182  109.156925           83    5   M  30.08  23.14   \n",
       "1  COVPAT0002   98.039265  109.481086          119    3   M  18.38  28.86   \n",
       "2  COVPAT0003   97.904030  110.428601           80    8   F  30.27  24.32   \n",
       "3  COVPAT0004   99.212383  110.048527           95    5   M  28.81  21.73   \n",
       "4  COVPAT0005   99.235056  110.180046           82    6   M  25.06  32.65   \n",
       "5  COVPAT0006   98.955697  110.725100           97    5   M  24.97  25.79   \n",
       "6  COVPAT0007   98.246181  109.927157           80    3   M  25.15  21.53   \n",
       "7  COVPAT0008  100.082687  109.694405           98    7   F  28.67  23.53   \n",
       "8  COVPAT0009  100.189262  110.339871           81    9   F  29.46  21.79   \n",
       "9  COVPAT0010   99.760662  109.761587           88    7   M  22.46  21.59   \n",
       "\n",
       "   Old_3  New_1  New_2  New_3 Age_group  avg_old_med  avg_new_med  \n",
       "0  33.58  30.51  28.75  22.47         A    28.933333    27.243333  \n",
       "1  38.32  21.66  28.53  16.05         A    28.520000    22.080000  \n",
       "2  42.16  21.99  31.26  20.15         A    32.250000    24.466667  \n",
       "3  21.46  24.66  26.34  15.90         A    24.000000    22.300000  \n",
       "4  27.54  25.84  20.59  21.65         A    28.416667    22.693333  \n",
       "5  42.23  27.37  25.13  25.05         A    30.996667    25.850000  \n",
       "6  31.54  17.55  25.24  20.29         A    26.073333    21.026667  \n",
       "7  49.29  26.28  24.21  14.60         A    33.830000    21.696667  \n",
       "8  41.70  19.84  25.24  16.65         A    30.983333    20.576667  \n",
       "9  40.61  26.24  22.69  23.50         A    28.220000    24.143333  "
      ]
     },
     "execution_count": 48,
     "metadata": {},
     "output_type": "execute_result"
    }
   ],
   "source": [
    "df_pharma.head(10)"
   ]
  },
  {
   "cell_type": "code",
   "execution_count": 49,
   "id": "3579d266",
   "metadata": {},
   "outputs": [],
   "source": [
    "Old_1 = df_pharma['Old_1']\n",
    "\n",
    "Old_1_1 = len(Old_1)\n",
    "\n",
    "Old_1_mean = np.mean(Old_1)\n",
    "\n",
    "Old_1_std = statistics.stdev(Old_1)\n",
    "\n",
    "New_1 = df_pharma['New_1']\n",
    "\n",
    "New_1_2 = len(New_1)\n",
    "\n",
    "New_1_mean = np.mean(New_1)\n",
    "\n",
    "New_1_std = statistics.stdev(New_1)"
   ]
  },
  {
   "cell_type": "code",
   "execution_count": 50,
   "id": "1661c24c",
   "metadata": {},
   "outputs": [
    {
     "name": "stdout",
     "output_type": "stream",
     "text": [
      "Critical value for one-tailed Z-test: 1.64\n"
     ]
    }
   ],
   "source": [
    "z_val = np.abs(round(stats.norm.isf(q = 0.05), 2))\n",
    "\n",
    "print('Critical value for one-tailed Z-test:', z_val)"
   ]
  },
  {
   "cell_type": "code",
   "execution_count": 51,
   "id": "bc99cb9e",
   "metadata": {},
   "outputs": [
    {
     "name": "stdout",
     "output_type": "stream",
     "text": [
      "Z-score:  0.31003709333238755\n",
      "p-value:  0.378266374396514\n"
     ]
    }
   ],
   "source": [
    "z_score, pval = stests.ztest( x1 = New_1,x2 = Old_1, value = 0, alternative = 'larger')\n",
    "\n",
    "print(\"Z-score: \", z_score)\n",
    "print(\"p-value: \", pval)"
   ]
  },
  {
   "cell_type": "code",
   "execution_count": 52,
   "id": "e55529ec",
   "metadata": {},
   "outputs": [
    {
     "name": "stdout",
     "output_type": "stream",
     "text": [
      "Confidence interval: (-0.13219122762727942, 0.1818712276271821)\n"
     ]
    }
   ],
   "source": [
    "print('Confidence interval:', stats.norm.interval(0.95, loc = New_1_mean - Old_1_mean, \n",
    "                                                scale = np.sqrt(((New_1_std**2) / n_1) + ((Old_1_std**2) / n_2))))"
   ]
  },
  {
   "cell_type": "markdown",
   "id": "1c85cd81",
   "metadata": {},
   "source": [
    "The null and alternative hypothesis is:\n",
    "\n",
    "H<sub>0</sub>: $\\mu_{1} - \\mu_{2} \\leq 0$ <br>\n",
    "H<sub>1</sub>: $\\mu_{1} - \\mu_{2} > 0$ \n",
    "\n",
    "Here ⍺ = 0.05, for a one-tailed test calculate the critical z-value."
   ]
  },
  {
   "cell_type": "markdown",
   "id": "1a8a1636",
   "metadata": {},
   "source": [
    "Here the z score is less than 1.64, the p-value is greater than 0.05, also the confidence interval contains the value in the null hypothesis (i.e. 0), thus we fail to reject (i.e. accept) the null hypothesis and we do not have enough evidence to conclude that the claim of the new medicine 1st phase better than the old medicine 1st phase is correct."
   ]
  },
  {
   "cell_type": "code",
   "execution_count": 53,
   "id": "3f03b1df",
   "metadata": {},
   "outputs": [
    {
     "data": {
      "image/png": "[encoded data removed]",
      "text/plain": [
       "<Figure size 432x288 with 1 Axes>"
      ]
     },
     "metadata": {
      "needs_background": "light"
     },
     "output_type": "display_data"
    }
   ],
   "source": [
    "X = stats.norm.rvs(size = 2000000, random_state = 18)\n",
    "\n",
    "ax = sns.distplot(a = X, hist = False, kde_kws = dict(cumulative=False))\n",
    "\n",
    "plt.ylim(0, 0.42)\n",
    "\n",
    "z = stats.norm.isf(q = 0.05)\n",
    "\n",
    "x, y = [z, z], [0, 0.3]\n",
    "plt.plot(x, y, color = 'black')\n",
    "\n",
    "x, y = [z_score, z_score], [0, 0.03]\n",
    "plt.plot(x, y, color = 'black')\n",
    "\n",
    "l1 = ax.lines[0]\n",
    "x1 = l1.get_xydata()[:,0]\n",
    "y1 = l1.get_xydata()[:,1]\n",
    "\n",
    "ax.fill_between(x1[x1 >= z], y1[x1 >= z], color = 'lightblue')\n",
    "\n",
    "plt.annotate(s = 'α = 0.05\\n(Rejection Region for H0)', xy = (2.5, 0.008), xytext = (2.5, 0.058), \n",
    "             arrowprops = dict(facecolor = 'black', arrowstyle = 'simple'))\n",
    "\n",
    "plt.annotate(s = 'z_crit = '+ str(round(z,2)), xy = (z, 0.2), xytext = (z-1.1, 0.24), \n",
    "             arrowprops = dict(facecolor = 'black', arrowstyle = 'simple'))\n",
    "\n",
    "\n",
    "plt.text(x = -1.1, y = 0.2, s = 'Acceptance Region for H0 (1 - α)')\n",
    "\n",
    "\n",
    "plt.xticks(ticks = [-4, -2, 2, 4, round(z_score,2)], \n",
    "           labels = [-4, -2, 2, 4, 'z_test = '+str(round(z_score,2))])\n",
    "\n",
    "\n",
    "plt.xlabel('Z', fontsize = 15)\n",
    "plt.ylabel('Probability', fontsize = 15)\n",
    "plt.title('Right-Tailed Test', fontsize = 15)\n",
    "\n",
    "plt.show()"
   ]
  },
  {
   "cell_type": "markdown",
   "id": "f70e9ab0",
   "metadata": {},
   "source": [
    "# new drug 2nd phase vs old drug 2nd phase\n"
   ]
  },
  {
   "cell_type": "code",
   "execution_count": 54,
   "id": "fbb1274c",
   "metadata": {},
   "outputs": [],
   "source": [
    "Old_2 = df_pharma['Old_2']\n",
    "\n",
    "Old_2_1 = len(Old_2)\n",
    "\n",
    "Old_2_mean = np.mean(Old_2)\n",
    "\n",
    "Old_2_std = statistics.stdev(Old_2)\n",
    "\n",
    "New_2 = df_pharma['New_2']\n",
    "\n",
    "New_2_2 = len(New_2)\n",
    "\n",
    "New_2_mean = np.mean(New_2)\n",
    "\n",
    "New_2_std = statistics.stdev(New_2)"
   ]
  },
  {
   "cell_type": "code",
   "execution_count": 55,
   "id": "ec8ff3d6",
   "metadata": {},
   "outputs": [
    {
     "name": "stdout",
     "output_type": "stream",
     "text": [
      "Critical value for one-tailed Z-test: 1.64\n"
     ]
    }
   ],
   "source": [
    "z_val = np.abs(round(stats.norm.isf(q = 0.05), 2))\n",
    "\n",
    "print('Critical value for one-tailed Z-test:', z_val)"
   ]
  },
  {
   "cell_type": "code",
   "execution_count": 56,
   "id": "80caf809",
   "metadata": {},
   "outputs": [
    {
     "name": "stdout",
     "output_type": "stream",
     "text": [
      "Z-score:  11.682067948037085\n",
      "p-value:  7.870925856173685e-32\n"
     ]
    }
   ],
   "source": [
    "z_score, pval = stests.ztest( x1 = New_2,x2 = Old_2, value = 0, alternative = 'larger')\n",
    "\n",
    "print(\"Z-score: \", z_score)\n",
    "print(\"p-value: \", pval)"
   ]
  },
  {
   "cell_type": "code",
   "execution_count": 57,
   "id": "f3790686",
   "metadata": {},
   "outputs": [
    {
     "name": "stdout",
     "output_type": "stream",
     "text": [
      "Confidence interval: (0.8731200843575772, 1.225159915642049)\n"
     ]
    }
   ],
   "source": [
    "print('Confidence interval:', stats.norm.interval(0.95, loc = New_2_mean - Old_2_mean, \n",
    "                                                scale = np.sqrt(((New_2_std**2) / n_1) + ((Old_2_std**2) / n_2))))"
   ]
  },
  {
   "cell_type": "code",
   "execution_count": 58,
   "id": "d758acfb",
   "metadata": {},
   "outputs": [
    {
     "data": {
      "image/png": "[encoded data removed]",
      "text/plain": [
       "<Figure size 432x288 with 1 Axes>"
      ]
     },
     "metadata": {
      "needs_background": "light"
     },
     "output_type": "display_data"
    }
   ],
   "source": [
    "X = stats.norm.rvs(size = 2000000, random_state = 18)\n",
    "\n",
    "ax = sns.distplot(a = X, hist = False, kde_kws = dict(cumulative=False))\n",
    "\n",
    "plt.ylim(0, 0.42)\n",
    "\n",
    "z = stats.norm.isf(q = 0.05)\n",
    "\n",
    "x, y = [z, z], [0, 0.3]\n",
    "plt.plot(x, y, color = 'black')\n",
    "\n",
    "x, y = [z_score, z_score], [0, 0.03]\n",
    "plt.plot(x, y, color = 'black')\n",
    "\n",
    "l1 = ax.lines[0]\n",
    "x1 = l1.get_xydata()[:,0]\n",
    "y1 = l1.get_xydata()[:,1]\n",
    "\n",
    "ax.fill_between(x1[x1 >= z], y1[x1 >= z], color = 'lightblue')\n",
    "\n",
    "plt.annotate(s = 'α = 0.05\\n(Rejection Region for H0)', xy = (2.5, 0.008), xytext = (2.5, 0.058), \n",
    "             arrowprops = dict(facecolor = 'black', arrowstyle = 'simple'))\n",
    "\n",
    "plt.annotate(s = 'z_crit = '+ str(round(z,2)), xy = (z, 0.2), xytext = (z-1.1, 0.24), \n",
    "             arrowprops = dict(facecolor = 'black', arrowstyle = 'simple'))\n",
    "\n",
    "\n",
    "plt.text(x = -1.1, y = 0.2, s = 'Acceptance Region for H0 (1 - α)')\n",
    "\n",
    "\n",
    "plt.xticks(ticks = [-4, -2, 2, 4, round(z_score,2)], \n",
    "           labels = [-4, -2, 2, 4, 'z_test = '+str(round(z_score,2))])\n",
    "\n",
    "\n",
    "plt.xlabel('Z', fontsize = 15)\n",
    "plt.ylabel('Probability', fontsize = 15)\n",
    "plt.title('Right-Tailed Test', fontsize = 15)\n",
    "\n",
    "plt.show()"
   ]
  },
  {
   "cell_type": "markdown",
   "id": "feee2b3d",
   "metadata": {},
   "source": [
    "The null and alternative hypothesis is:\n",
    "\n",
    "H<sub>0</sub>: $\\mu_{1} - \\mu_{2} \\leq 0$ <br>\n",
    "H<sub>1</sub>: $\\mu_{1} - \\mu_{2} > 0$ \n",
    "\n",
    "Here ⍺ = 0.05, for a one-tailed test calculate the critical z-value."
   ]
  },
  {
   "cell_type": "markdown",
   "id": "7022a0a8",
   "metadata": {},
   "source": [
    "Here the z score is greater than 1.64, the p-value is less than 0.05, also the confidence interval not contains the value in the null hypothesis (i.e. 0), thus we reject the null hypothesis and we have enough evidence to conclude that the claim of the new medicine 2nd phase better than the old medicine 2nd phase is correct."
   ]
  },
  {
   "cell_type": "markdown",
   "id": "19562599",
   "metadata": {},
   "source": [
    "# new drug 3rd phase vs old drug 3rd phase\n"
   ]
  },
  {
   "cell_type": "code",
   "execution_count": 59,
   "id": "6dc3453d",
   "metadata": {},
   "outputs": [],
   "source": [
    "Old_3 = df_pharma['Old_3']\n",
    "\n",
    "Old_3_1 = len(Old_3)\n",
    "\n",
    "Old_3_mean = np.mean(Old_3)\n",
    "\n",
    "Old_3_std = statistics.stdev(Old_3)\n",
    "\n",
    "New_3 = df_pharma['New_3']\n",
    "\n",
    "New_3_2 = len(New_3)\n",
    "\n",
    "New_3_mean = np.mean(New_3)\n",
    "\n",
    "New_3_std = statistics.stdev(New_3)"
   ]
  },
  {
   "cell_type": "code",
   "execution_count": 60,
   "id": "dc3c01cd",
   "metadata": {},
   "outputs": [
    {
     "name": "stdout",
     "output_type": "stream",
     "text": [
      "Critical value for one-tailed Z-test: 1.64\n"
     ]
    }
   ],
   "source": [
    "z_val = np.abs(round(stats.norm.isf(q = 0.05), 2))\n",
    "\n",
    "print('Critical value for one-tailed Z-test:', z_val)"
   ]
  },
  {
   "cell_type": "code",
   "execution_count": 61,
   "id": "67a19a2d",
   "metadata": {},
   "outputs": [
    {
     "name": "stdout",
     "output_type": "stream",
     "text": [
      "Z-score:  -143.20633591331273\n",
      "p-value:  1.0\n"
     ]
    }
   ],
   "source": [
    "z_score, pval = stests.ztest( x1 = New_3,x2 = Old_3, value = 0, alternative = 'larger')\n",
    "\n",
    "print(\"Z-score: \", z_score)\n",
    "print(\"p-value: \", pval)"
   ]
  },
  {
   "cell_type": "code",
   "execution_count": 62,
   "id": "3a48ce69",
   "metadata": {},
   "outputs": [
    {
     "name": "stdout",
     "output_type": "stream",
     "text": [
      "Confidence interval: (-22.010685449493476, -21.416330550506547)\n"
     ]
    }
   ],
   "source": [
    "print('Confidence interval:', stats.norm.interval(0.95, loc = New_3_mean - Old_3_mean, \n",
    "                                                scale = np.sqrt(((New_3_std**2) / n_1) + ((Old_3_std**2) / n_2))))"
   ]
  },
  {
   "cell_type": "markdown",
   "id": "7bbe7391",
   "metadata": {},
   "source": [
    "The null and alternative hypothesis is:\n",
    "\n",
    "H<sub>0</sub>: $\\mu_{1} - \\mu_{2} \\leq 0$ <br>\n",
    "H<sub>1</sub>: $\\mu_{1} - \\mu_{2} > 0$ \n",
    "\n",
    "Here ⍺ = 0.05, for a one-tailed test calculate the critical z-value."
   ]
  },
  {
   "cell_type": "markdown",
   "id": "7a8a68ac",
   "metadata": {},
   "source": [
    "Here the z score is less than 1.64, the p-value is greater than 0.05, also the confidence interval contains the value in the null hypothesis (i.e. 0), thus we fail to reject (i.e. accept) the null hypothesis and we do not have enough evidence to conclude that the claim of the new medicine 3RD phase better than the old medicine 3RD phase is correct."
   ]
  },
  {
   "cell_type": "code",
   "execution_count": 63,
   "id": "bad6b75b",
   "metadata": {},
   "outputs": [
    {
     "data": {
      "image/png": "[encoded data removed]",
      "text/plain": [
       "<Figure size 432x288 with 1 Axes>"
      ]
     },
     "metadata": {
      "needs_background": "light"
     },
     "output_type": "display_data"
    }
   ],
   "source": [
    "X = stats.norm.rvs(size = 2000000, random_state = 18)\n",
    "\n",
    "ax = sns.distplot(a = X, hist = False, kde_kws = dict(cumulative=False))\n",
    "\n",
    "plt.ylim(0, 0.42)\n",
    "\n",
    "z = stats.norm.isf(q = 0.05)\n",
    "\n",
    "x, y = [z, z], [0, 0.3]\n",
    "plt.plot(x, y, color = 'black')\n",
    "\n",
    "x, y = [z_score, z_score], [0, 0.03]\n",
    "plt.plot(x, y, color = 'black')\n",
    "\n",
    "l1 = ax.lines[0]\n",
    "x1 = l1.get_xydata()[:,0]\n",
    "y1 = l1.get_xydata()[:,1]\n",
    "\n",
    "ax.fill_between(x1[x1 >= z], y1[x1 >= z], color = 'lightblue')\n",
    "\n",
    "plt.annotate(s = 'α = 0.05\\n(Rejection Region for H0)', xy = (2.5, 0.008), xytext = (2.5, 0.058), \n",
    "             arrowprops = dict(facecolor = 'black', arrowstyle = 'simple'))\n",
    "\n",
    "plt.annotate(s = 'z_crit = '+ str(round(z,2)), xy = (z, 0.2), xytext = (z-1.1, 0.24), \n",
    "             arrowprops = dict(facecolor = 'black', arrowstyle = 'simple'))\n",
    "\n",
    "\n",
    "plt.text(x = -1.1, y = 0.2, s = 'Acceptance Region for H0 (1 - α)')\n",
    "\n",
    "\n",
    "plt.xticks(ticks = [-4, -2, 2, 4, round(z_score,2)], \n",
    "           labels = [-4, -2, 2, 4, 'z_test = '+str(round(z_score,2))])\n",
    "\n",
    "\n",
    "plt.xlabel('Z', fontsize = 15)\n",
    "plt.ylabel('Probability', fontsize = 15)\n",
    "plt.title('Right-Tailed Test', fontsize = 15)\n",
    "\n",
    "plt.show()"
   ]
  },
  {
   "cell_type": "markdown",
   "id": "6b94570c",
   "metadata": {},
   "source": [
    "# new vs old medicine in children"
   ]
  },
  {
   "cell_type": "code",
   "execution_count": 64,
   "id": "1b0ca07c",
   "metadata": {},
   "outputs": [
    {
     "data": {
      "text/html": [
       "<div>\n",
       "<style scoped>\n",
       "    .dataframe tbody tr th:only-of-type {\n",
       "        vertical-align: middle;\n",
       "    }\n",
       "\n",
       "    .dataframe tbody tr th {\n",
       "        vertical-align: top;\n",
       "    }\n",
       "\n",
       "    .dataframe thead th {\n",
       "        text-align: right;\n",
       "    }\n",
       "</style>\n",
       "<table border=\"1\" class=\"dataframe\">\n",
       "  <thead>\n",
       "    <tr style=\"text-align: right;\">\n",
       "      <th></th>\n",
       "      <th>Patient_id</th>\n",
       "      <th>Oxy_level</th>\n",
       "      <th>Pulse_rate</th>\n",
       "      <th>Blood_Sugar</th>\n",
       "      <th>Age</th>\n",
       "      <th>Sex</th>\n",
       "      <th>Old_1</th>\n",
       "      <th>Old_2</th>\n",
       "      <th>Old_3</th>\n",
       "      <th>New_1</th>\n",
       "      <th>New_2</th>\n",
       "      <th>New_3</th>\n",
       "      <th>Age_group</th>\n",
       "      <th>avg_old_med</th>\n",
       "      <th>avg_new_med</th>\n",
       "    </tr>\n",
       "  </thead>\n",
       "  <tbody>\n",
       "    <tr>\n",
       "      <th>0</th>\n",
       "      <td>COVPAT0001</td>\n",
       "      <td>97.109182</td>\n",
       "      <td>109.156925</td>\n",
       "      <td>83</td>\n",
       "      <td>5</td>\n",
       "      <td>M</td>\n",
       "      <td>30.08</td>\n",
       "      <td>23.14</td>\n",
       "      <td>33.58</td>\n",
       "      <td>30.51</td>\n",
       "      <td>28.75</td>\n",
       "      <td>22.47</td>\n",
       "      <td>A</td>\n",
       "      <td>28.933333</td>\n",
       "      <td>27.243333</td>\n",
       "    </tr>\n",
       "    <tr>\n",
       "      <th>1</th>\n",
       "      <td>COVPAT0002</td>\n",
       "      <td>98.039265</td>\n",
       "      <td>109.481086</td>\n",
       "      <td>119</td>\n",
       "      <td>3</td>\n",
       "      <td>M</td>\n",
       "      <td>18.38</td>\n",
       "      <td>28.86</td>\n",
       "      <td>38.32</td>\n",
       "      <td>21.66</td>\n",
       "      <td>28.53</td>\n",
       "      <td>16.05</td>\n",
       "      <td>A</td>\n",
       "      <td>28.520000</td>\n",
       "      <td>22.080000</td>\n",
       "    </tr>\n",
       "    <tr>\n",
       "      <th>2</th>\n",
       "      <td>COVPAT0003</td>\n",
       "      <td>97.904030</td>\n",
       "      <td>110.428601</td>\n",
       "      <td>80</td>\n",
       "      <td>8</td>\n",
       "      <td>F</td>\n",
       "      <td>30.27</td>\n",
       "      <td>24.32</td>\n",
       "      <td>42.16</td>\n",
       "      <td>21.99</td>\n",
       "      <td>31.26</td>\n",
       "      <td>20.15</td>\n",
       "      <td>A</td>\n",
       "      <td>32.250000</td>\n",
       "      <td>24.466667</td>\n",
       "    </tr>\n",
       "    <tr>\n",
       "      <th>3</th>\n",
       "      <td>COVPAT0004</td>\n",
       "      <td>99.212383</td>\n",
       "      <td>110.048527</td>\n",
       "      <td>95</td>\n",
       "      <td>5</td>\n",
       "      <td>M</td>\n",
       "      <td>28.81</td>\n",
       "      <td>21.73</td>\n",
       "      <td>21.46</td>\n",
       "      <td>24.66</td>\n",
       "      <td>26.34</td>\n",
       "      <td>15.90</td>\n",
       "      <td>A</td>\n",
       "      <td>24.000000</td>\n",
       "      <td>22.300000</td>\n",
       "    </tr>\n",
       "    <tr>\n",
       "      <th>4</th>\n",
       "      <td>COVPAT0005</td>\n",
       "      <td>99.235056</td>\n",
       "      <td>110.180046</td>\n",
       "      <td>82</td>\n",
       "      <td>6</td>\n",
       "      <td>M</td>\n",
       "      <td>25.06</td>\n",
       "      <td>32.65</td>\n",
       "      <td>27.54</td>\n",
       "      <td>25.84</td>\n",
       "      <td>20.59</td>\n",
       "      <td>21.65</td>\n",
       "      <td>A</td>\n",
       "      <td>28.416667</td>\n",
       "      <td>22.693333</td>\n",
       "    </tr>\n",
       "    <tr>\n",
       "      <th>5</th>\n",
       "      <td>COVPAT0006</td>\n",
       "      <td>98.955697</td>\n",
       "      <td>110.725100</td>\n",
       "      <td>97</td>\n",
       "      <td>5</td>\n",
       "      <td>M</td>\n",
       "      <td>24.97</td>\n",
       "      <td>25.79</td>\n",
       "      <td>42.23</td>\n",
       "      <td>27.37</td>\n",
       "      <td>25.13</td>\n",
       "      <td>25.05</td>\n",
       "      <td>A</td>\n",
       "      <td>30.996667</td>\n",
       "      <td>25.850000</td>\n",
       "    </tr>\n",
       "    <tr>\n",
       "      <th>6</th>\n",
       "      <td>COVPAT0007</td>\n",
       "      <td>98.246181</td>\n",
       "      <td>109.927157</td>\n",
       "      <td>80</td>\n",
       "      <td>3</td>\n",
       "      <td>M</td>\n",
       "      <td>25.15</td>\n",
       "      <td>21.53</td>\n",
       "      <td>31.54</td>\n",
       "      <td>17.55</td>\n",
       "      <td>25.24</td>\n",
       "      <td>20.29</td>\n",
       "      <td>A</td>\n",
       "      <td>26.073333</td>\n",
       "      <td>21.026667</td>\n",
       "    </tr>\n",
       "    <tr>\n",
       "      <th>7</th>\n",
       "      <td>COVPAT0008</td>\n",
       "      <td>100.082687</td>\n",
       "      <td>109.694405</td>\n",
       "      <td>98</td>\n",
       "      <td>7</td>\n",
       "      <td>F</td>\n",
       "      <td>28.67</td>\n",
       "      <td>23.53</td>\n",
       "      <td>49.29</td>\n",
       "      <td>26.28</td>\n",
       "      <td>24.21</td>\n",
       "      <td>14.60</td>\n",
       "      <td>A</td>\n",
       "      <td>33.830000</td>\n",
       "      <td>21.696667</td>\n",
       "    </tr>\n",
       "    <tr>\n",
       "      <th>8</th>\n",
       "      <td>COVPAT0009</td>\n",
       "      <td>100.189262</td>\n",
       "      <td>110.339871</td>\n",
       "      <td>81</td>\n",
       "      <td>9</td>\n",
       "      <td>F</td>\n",
       "      <td>29.46</td>\n",
       "      <td>21.79</td>\n",
       "      <td>41.70</td>\n",
       "      <td>19.84</td>\n",
       "      <td>25.24</td>\n",
       "      <td>16.65</td>\n",
       "      <td>A</td>\n",
       "      <td>30.983333</td>\n",
       "      <td>20.576667</td>\n",
       "    </tr>\n",
       "    <tr>\n",
       "      <th>9</th>\n",
       "      <td>COVPAT0010</td>\n",
       "      <td>99.760662</td>\n",
       "      <td>109.761587</td>\n",
       "      <td>88</td>\n",
       "      <td>7</td>\n",
       "      <td>M</td>\n",
       "      <td>22.46</td>\n",
       "      <td>21.59</td>\n",
       "      <td>40.61</td>\n",
       "      <td>26.24</td>\n",
       "      <td>22.69</td>\n",
       "      <td>23.50</td>\n",
       "      <td>A</td>\n",
       "      <td>28.220000</td>\n",
       "      <td>24.143333</td>\n",
       "    </tr>\n",
       "  </tbody>\n",
       "</table>\n",
       "</div>"
      ],
      "text/plain": [
       "   Patient_id   Oxy_level  Pulse_rate  Blood_Sugar  Age Sex  Old_1  Old_2  \\\n",
       "0  COVPAT0001   97.109182  109.156925           83    5   M  30.08  23.14   \n",
       "1  COVPAT0002   98.039265  109.481086          119    3   M  18.38  28.86   \n",
       "2  COVPAT0003   97.904030  110.428601           80    8   F  30.27  24.32   \n",
       "3  COVPAT0004   99.212383  110.048527           95    5   M  28.81  21.73   \n",
       "4  COVPAT0005   99.235056  110.180046           82    6   M  25.06  32.65   \n",
       "5  COVPAT0006   98.955697  110.725100           97    5   M  24.97  25.79   \n",
       "6  COVPAT0007   98.246181  109.927157           80    3   M  25.15  21.53   \n",
       "7  COVPAT0008  100.082687  109.694405           98    7   F  28.67  23.53   \n",
       "8  COVPAT0009  100.189262  110.339871           81    9   F  29.46  21.79   \n",
       "9  COVPAT0010   99.760662  109.761587           88    7   M  22.46  21.59   \n",
       "\n",
       "   Old_3  New_1  New_2  New_3 Age_group  avg_old_med  avg_new_med  \n",
       "0  33.58  30.51  28.75  22.47         A    28.933333    27.243333  \n",
       "1  38.32  21.66  28.53  16.05         A    28.520000    22.080000  \n",
       "2  42.16  21.99  31.26  20.15         A    32.250000    24.466667  \n",
       "3  21.46  24.66  26.34  15.90         A    24.000000    22.300000  \n",
       "4  27.54  25.84  20.59  21.65         A    28.416667    22.693333  \n",
       "5  42.23  27.37  25.13  25.05         A    30.996667    25.850000  \n",
       "6  31.54  17.55  25.24  20.29         A    26.073333    21.026667  \n",
       "7  49.29  26.28  24.21  14.60         A    33.830000    21.696667  \n",
       "8  41.70  19.84  25.24  16.65         A    30.983333    20.576667  \n",
       "9  40.61  26.24  22.69  23.50         A    28.220000    24.143333  "
      ]
     },
     "execution_count": 64,
     "metadata": {},
     "output_type": "execute_result"
    }
   ],
   "source": [
    "df_pharma.head(10)"
   ]
  },
  {
   "cell_type": "code",
   "execution_count": 65,
   "id": "5f0bccbf",
   "metadata": {},
   "outputs": [],
   "source": [
    "AGE_Old_1 = df_pharma[(df_pharma['Age_group'] == 'A')]['avg_old_med']\n",
    "n_1=len(AGE_Old_1)\n",
    "AGE_Old_1_mean=np.mean(AGE_Old_1)\n",
    "AGE_Old_1_std=statistics.stdev(AGE_Old_1)\n",
    "\n",
    "AGE_New_1 = df_pharma[(df_pharma['Age_group'] == 'A')]['avg_new_med']\n",
    "n_2=len(AGE_New_1)\n",
    "AGE_New_1_mean=np.mean(AGE_New_1)\n",
    "AGE_New_1_std=statistics.stdev(AGE_New_1)"
   ]
  },
  {
   "cell_type": "markdown",
   "id": "80e2b542",
   "metadata": {},
   "source": [
    "The null and alternative hypothesis is:\n",
    "\n",
    "H<sub>0</sub>: $\\mu_{1} - \\mu_{2} \\leq 0$ <br>\n",
    "H<sub>1</sub>: $\\mu_{1} - \\mu_{2} > 0$ \n",
    "\n",
    "Here ⍺ = 0.05, for a one-tailed test calculate the critical z-value."
   ]
  },
  {
   "cell_type": "code",
   "execution_count": 66,
   "id": "bd24bca3",
   "metadata": {},
   "outputs": [
    {
     "name": "stdout",
     "output_type": "stream",
     "text": [
      "Critical value for one-tailed Z-test: 1.64\n"
     ]
    }
   ],
   "source": [
    "z_val = np.abs(round(stats.norm.isf(q = 0.05), 2))\n",
    "\n",
    "print('Critical value for one-tailed Z-test:', z_val)"
   ]
  },
  {
   "cell_type": "code",
   "execution_count": 67,
   "id": "87d3815f",
   "metadata": {},
   "outputs": [
    {
     "name": "stdout",
     "output_type": "stream",
     "text": [
      "Z-score:  -46.82380021789492\n",
      "p-value:  1.0\n"
     ]
    }
   ],
   "source": [
    "z_score, pval = stests.ztest( x1 = AGE_New_1,x2 = AGE_Old_1, value = 0, alternative = 'larger')\n",
    "\n",
    "print(\"Z-score: \", z_score)\n",
    "print(\"p-value: \", pval)"
   ]
  },
  {
   "cell_type": "code",
   "execution_count": 68,
   "id": "9e2b6117",
   "metadata": {},
   "outputs": [
    {
     "name": "stdout",
     "output_type": "stream",
     "text": [
      "Confidence interval: (-7.204075376789932, -6.625205397760501)\n"
     ]
    }
   ],
   "source": [
    "print('Confidence interval:', stats.norm.interval(0.95, loc = AGE_New_1_mean - AGE_Old_1_mean, \n",
    "                                                scale = np.sqrt(((AGE_New_1_std**2) / n_2) + ((AGE_Old_1_std**2) / n_1))))"
   ]
  },
  {
   "cell_type": "markdown",
   "id": "c63960a1",
   "metadata": {},
   "source": [
    "Here the z score is less than 1.64, the p-value is greater than 0.05, also the confidence interval contains the value in the null hypothesis (i.e. 0), thus we fail to reject (i.e. accept) the null hypothesis and we do not have enough evidence to conclude that the claim of the new medicine in children better than the old medicine is correct."
   ]
  },
  {
   "cell_type": "code",
   "execution_count": 69,
   "id": "ad2e9e12",
   "metadata": {},
   "outputs": [
    {
     "data": {
      "image/png": "[encoded data removed]",
      "text/plain": [
       "<Figure size 432x288 with 1 Axes>"
      ]
     },
     "metadata": {
      "needs_background": "light"
     },
     "output_type": "display_data"
    }
   ],
   "source": [
    "X = stats.norm.rvs(size = 2000000, random_state = 18)\n",
    "\n",
    "ax = sns.distplot(a = X, hist = False, kde_kws = dict(cumulative=False))\n",
    "\n",
    "plt.ylim(0, 0.42)\n",
    "\n",
    "z = stats.norm.isf(q = 0.05)\n",
    "\n",
    "x, y = [z, z], [0, 0.3]\n",
    "plt.plot(x, y, color = 'black')\n",
    "\n",
    "x, y = [z_score, z_score], [0, 0.03]\n",
    "plt.plot(x, y, color = 'black')\n",
    "\n",
    "l1 = ax.lines[0]\n",
    "x1 = l1.get_xydata()[:,0]\n",
    "y1 = l1.get_xydata()[:,1]\n",
    "\n",
    "ax.fill_between(x1[x1 >= z], y1[x1 >= z], color = 'lightblue')\n",
    "\n",
    "plt.annotate(s = 'α = 0.05\\n(Rejection Region for H0)', xy = (2.5, 0.008), xytext = (2.5, 0.058), \n",
    "             arrowprops = dict(facecolor = 'black', arrowstyle = 'simple'))\n",
    "\n",
    "plt.annotate(s = 'z_crit = '+ str(round(z,2)), xy = (z, 0.2), xytext = (z-1.1, 0.24), \n",
    "             arrowprops = dict(facecolor = 'black', arrowstyle = 'simple'))\n",
    "\n",
    "\n",
    "plt.text(x = -1.1, y = 0.2, s = 'Acceptance Region for H0 (1 - α)')\n",
    "\n",
    "\n",
    "plt.xticks(ticks = [-4, -2, 2, 4, round(z_score,2)], \n",
    "           labels = [-4, -2, 2, 4, 'z_test = '+str(round(z_score,2))])\n",
    "\n",
    "\n",
    "plt.xlabel('Z', fontsize = 15)\n",
    "plt.ylabel('Probability', fontsize = 15)\n",
    "plt.title('Right-Tailed Test', fontsize = 15)\n",
    "\n",
    "plt.show()"
   ]
  },
  {
   "cell_type": "markdown",
   "id": "62c59896",
   "metadata": {},
   "source": [
    "# new vs old medicine in teenager"
   ]
  },
  {
   "cell_type": "code",
   "execution_count": 70,
   "id": "ccc00a2e",
   "metadata": {},
   "outputs": [],
   "source": [
    "AGE_Old_2 = df_pharma[(df_pharma['Age_group'] == 'B')]['avg_old_med']\n",
    "n_10=len(AGE_Old_2)\n",
    "AGE_Old_2_mean=np.mean(AGE_Old_2)\n",
    "AGE_Old_2_std=statistics.stdev(AGE_Old_2)\n",
    "\n",
    "AGE_New_2 = df_pharma[(df_pharma['Age_group'] == 'B')]['avg_new_med']\n",
    "n_20=len(AGE_New_2)\n",
    "AGE_New_2_mean=np.mean(AGE_New_2)\n",
    "AGE_New_2_std=statistics.stdev(AGE_New_2)"
   ]
  },
  {
   "cell_type": "markdown",
   "id": "f5c76b84",
   "metadata": {},
   "source": [
    "The null and alternative hypothesis is:\n",
    "\n",
    "H<sub>0</sub>: $\\mu_{1} - \\mu_{2} \\leq 0$ <br>\n",
    "H<sub>1</sub>: $\\mu_{1} - \\mu_{2} > 0$ \n",
    "\n",
    "Here ⍺ = 0.05, for a one-tailed test calculate the critical z-value."
   ]
  },
  {
   "cell_type": "code",
   "execution_count": 71,
   "id": "762904b4",
   "metadata": {},
   "outputs": [
    {
     "name": "stdout",
     "output_type": "stream",
     "text": [
      "Critical value for one-tailed Z-test: 1.64\n",
      "Z-score:  -35.64508130023732\n",
      "p-value:  1.0\n",
      "Confidence interval: (-7.2373759982167725, -6.482956148876949)\n"
     ]
    }
   ],
   "source": [
    "z_val = np.abs(round(stats.norm.isf(q = 0.05), 2))\n",
    "\n",
    "print('Critical value for one-tailed Z-test:', z_val)\n",
    "\n",
    "z_score, pval = stests.ztest( x1 = AGE_New_2,x2 = AGE_Old_2, value = 0, alternative = 'larger')\n",
    "\n",
    "print(\"Z-score: \", z_score)\n",
    "print(\"p-value: \", pval)\n",
    "\n",
    "print('Confidence interval:', stats.norm.interval(0.95, loc = AGE_New_2_mean - AGE_Old_2_mean, \n",
    "                                                scale = np.sqrt(((AGE_New_2_std**2) / n_20) + ((AGE_Old_2_std**2) / n_10))))"
   ]
  },
  {
   "cell_type": "markdown",
   "id": "42a03f0a",
   "metadata": {},
   "source": [
    "Here the z score is less than 1.64, the p-value is greater than 0.05, also the confidence interval contains the value in the null hypothesis (i.e. 0), thus we fail to reject (i.e. accept) the null hypothesis and we do not have enough evidence to conclude that the claim of the new medicine in teenager better than the old medicine is correct."
   ]
  },
  {
   "cell_type": "code",
   "execution_count": 72,
   "id": "69255c89",
   "metadata": {},
   "outputs": [
    {
     "data": {
      "image/png": "[encoded data removed]",
      "text/plain": [
       "<Figure size 432x288 with 1 Axes>"
      ]
     },
     "metadata": {
      "needs_background": "light"
     },
     "output_type": "display_data"
    }
   ],
   "source": [
    "X = stats.norm.rvs(size = 2000000, random_state = 18)\n",
    "\n",
    "ax = sns.distplot(a = X, hist = False, kde_kws = dict(cumulative=False))\n",
    "\n",
    "plt.ylim(0, 0.42)\n",
    "\n",
    "z = stats.norm.isf(q = 0.05)\n",
    "\n",
    "x, y = [z, z], [0, 0.3]\n",
    "plt.plot(x, y, color = 'black')\n",
    "\n",
    "x, y = [z_score, z_score], [0, 0.03]\n",
    "plt.plot(x, y, color = 'black')\n",
    "\n",
    "l1 = ax.lines[0]\n",
    "x1 = l1.get_xydata()[:,0]\n",
    "y1 = l1.get_xydata()[:,1]\n",
    "\n",
    "ax.fill_between(x1[x1 >= z], y1[x1 >= z], color = 'lightblue')\n",
    "\n",
    "plt.annotate(s = 'α = 0.05\\n(Rejection Region for H0)', xy = (2.5, 0.008), xytext = (2.5, 0.058), \n",
    "             arrowprops = dict(facecolor = 'black', arrowstyle = 'simple'))\n",
    "\n",
    "plt.annotate(s = 'z_crit = '+ str(round(z,2)), xy = (z, 0.2), xytext = (z-1.1, 0.24), \n",
    "             arrowprops = dict(facecolor = 'black', arrowstyle = 'simple'))\n",
    "\n",
    "\n",
    "plt.text(x = -1.1, y = 0.2, s = 'Acceptance Region for H0 (1 - α)')\n",
    "\n",
    "\n",
    "plt.xticks(ticks = [-4, -2, 2, 4, round(z_score,2)], \n",
    "           labels = [-4, -2, 2, 4, 'z_test = '+str(round(z_score,2))])\n",
    "\n",
    "\n",
    "plt.xlabel('Z', fontsize = 15)\n",
    "plt.ylabel('Probability', fontsize = 15)\n",
    "plt.title('Right-Tailed Test', fontsize = 15)\n",
    "\n",
    "plt.show()"
   ]
  },
  {
   "cell_type": "markdown",
   "id": "8cd0aab2",
   "metadata": {},
   "source": [
    "# new vs old medicine in adult"
   ]
  },
  {
   "cell_type": "code",
   "execution_count": 73,
   "id": "de27390e",
   "metadata": {},
   "outputs": [],
   "source": [
    "AGE_Old_3 = df_pharma[(df_pharma['Age_group'] == 'C')]['avg_old_med']\n",
    "n_11=len(AGE_Old_3)\n",
    "AGE_Old_3_mean=np.mean(AGE_Old_3)\n",
    "AGE_Old_3_std=statistics.stdev(AGE_Old_3)\n",
    "\n",
    "AGE_New_3 = df_pharma[(df_pharma['Age_group'] == 'C')]['avg_new_med']\n",
    "n_21=len(AGE_New_3)\n",
    "AGE_New_3_mean=np.mean(AGE_New_3)\n",
    "AGE_New_3_std=statistics.stdev(AGE_New_3)"
   ]
  },
  {
   "cell_type": "code",
   "execution_count": 74,
   "id": "8ff1a889",
   "metadata": {},
   "outputs": [
    {
     "name": "stdout",
     "output_type": "stream",
     "text": [
      "Critical value for one-tailed Z-test: 1.64\n",
      "Z-score:  -37.518713154290005\n",
      "p-value:  1.0\n",
      "Confidence interval: (-6.997849038135912, -6.3030166335057904)\n"
     ]
    }
   ],
   "source": [
    "z_val = np.abs(round(stats.norm.isf(q = 0.05), 2))\n",
    "\n",
    "print('Critical value for one-tailed Z-test:', z_val)\n",
    "\n",
    "z_score, pval = stests.ztest( x1 = AGE_New_3,x2 = AGE_Old_3, value = 0, alternative = 'larger')\n",
    "\n",
    "print(\"Z-score: \", z_score)\n",
    "print(\"p-value: \", pval)\n",
    "\n",
    "print('Confidence interval:', stats.norm.interval(0.95, loc = AGE_New_3_mean - AGE_Old_3_mean, \n",
    "                                                scale = np.sqrt(((AGE_New_3_std**2) / n_21) + ((AGE_Old_3_std**2) / n_11))))"
   ]
  },
  {
   "cell_type": "markdown",
   "id": "6f358cb2",
   "metadata": {},
   "source": [
    "Here the z score is less than 1.64, the p-value is greater than 0.05, also the confidence interval contains the value in the null hypothesis (i.e. 0), thus we fail to reject (i.e. accept) the null hypothesis and we do not have enough evidence to conclude that the claim of the new medicine in adult better than the old medicine is correct."
   ]
  },
  {
   "cell_type": "code",
   "execution_count": 75,
   "id": "6305b07d",
   "metadata": {},
   "outputs": [
    {
     "data": {
      "image/png": "[encoded data removed]",
      "text/plain": [
       "<Figure size 432x288 with 1 Axes>"
      ]
     },
     "metadata": {
      "needs_background": "light"
     },
     "output_type": "display_data"
    }
   ],
   "source": [
    "X = stats.norm.rvs(size = 2000000, random_state = 18)\n",
    "\n",
    "ax = sns.distplot(a = X, hist = False, kde_kws = dict(cumulative=False))\n",
    "\n",
    "plt.ylim(0, 0.42)\n",
    "\n",
    "z = stats.norm.isf(q = 0.05)\n",
    "\n",
    "x, y = [z, z], [0, 0.3]\n",
    "plt.plot(x, y, color = 'black')\n",
    "\n",
    "x, y = [z_score, z_score], [0, 0.03]\n",
    "plt.plot(x, y, color = 'black')\n",
    "\n",
    "l1 = ax.lines[0]\n",
    "x1 = l1.get_xydata()[:,0]\n",
    "y1 = l1.get_xydata()[:,1]\n",
    "\n",
    "ax.fill_between(x1[x1 >= z], y1[x1 >= z], color = 'lightblue')\n",
    "\n",
    "plt.annotate(s = 'α = 0.05\\n(Rejection Region for H0)', xy = (2.5, 0.008), xytext = (2.5, 0.058), \n",
    "             arrowprops = dict(facecolor = 'black', arrowstyle = 'simple'))\n",
    "\n",
    "plt.annotate(s = 'z_crit = '+ str(round(z,2)), xy = (z, 0.2), xytext = (z-1.1, 0.24), \n",
    "             arrowprops = dict(facecolor = 'black', arrowstyle = 'simple'))\n",
    "\n",
    "\n",
    "plt.text(x = -1.1, y = 0.2, s = 'Acceptance Region for H0 (1 - α)')\n",
    "\n",
    "\n",
    "plt.xticks(ticks = [-4, -2, 2, 4, round(z_score,2)], \n",
    "           labels = [-4, -2, 2, 4, 'z_test = '+str(round(z_score,2))])\n",
    "\n",
    "\n",
    "plt.xlabel('Z', fontsize = 15)\n",
    "plt.ylabel('Probability', fontsize = 15)\n",
    "plt.title('Right-Tailed Test', fontsize = 15)\n",
    "\n",
    "plt.show()"
   ]
  },
  {
   "cell_type": "markdown",
   "id": "7861e6cc",
   "metadata": {},
   "source": [
    "# new vs old medicine in old"
   ]
  },
  {
   "cell_type": "code",
   "execution_count": 76,
   "id": "e9778e31",
   "metadata": {},
   "outputs": [],
   "source": [
    "AGE_Old_4 = df_pharma[(df_pharma['Age_group'] == 'D')]['avg_old_med']\n",
    "n_12=len(AGE_Old_4)\n",
    "AGE_Old_4_mean=np.mean(AGE_Old_4)\n",
    "AGE_Old_4_std=statistics.stdev(AGE_Old_4)\n",
    "\n",
    "AGE_New_4 = df_pharma[(df_pharma['Age_group'] == 'D')]['avg_new_med']\n",
    "n_22=len(AGE_New_4)\n",
    "AGE_New_4_mean=np.mean(AGE_New_4)\n",
    "AGE_New_4_std=statistics.stdev(AGE_New_4)"
   ]
  },
  {
   "cell_type": "code",
   "execution_count": 77,
   "id": "7a1344a5",
   "metadata": {},
   "outputs": [
    {
     "name": "stdout",
     "output_type": "stream",
     "text": [
      "Critical value for one-tailed Z-test: 1.64\n",
      "Z-score:  -43.29832909489176\n",
      "p-value:  1.0\n",
      "Confidence interval: (-7.1343757659653395, -6.516450581340015)\n"
     ]
    }
   ],
   "source": [
    "z_val = np.abs(round(stats.norm.isf(q = 0.05), 2))\n",
    "\n",
    "print('Critical value for one-tailed Z-test:', z_val)\n",
    "\n",
    "z_score, pval = stests.ztest( x1 = AGE_New_4,x2 = AGE_Old_4, value = 0, alternative = 'larger')\n",
    "\n",
    "print(\"Z-score: \", z_score)\n",
    "print(\"p-value: \", pval)\n",
    "\n",
    "print('Confidence interval:', stats.norm.interval(0.95, loc = AGE_New_4_mean - AGE_Old_4_mean, \n",
    "                                                scale = np.sqrt(((AGE_New_4_std**2) / n_22) + ((AGE_Old_4_std**2) / n_12))))"
   ]
  },
  {
   "cell_type": "markdown",
   "id": "c3a99cc2",
   "metadata": {},
   "source": [
    "Here the z score is less than 1.64, the p-value is greater than 0.05, also the confidence interval contains the value in the null hypothesis (i.e. 0), thus we fail to reject (i.e. accept) the null hypothesis and we do not have enough evidence to conclude that the claim of the new medicine in old better than the old medicine is correct."
   ]
  },
  {
   "cell_type": "code",
   "execution_count": 78,
   "id": "bc4a84a5",
   "metadata": {},
   "outputs": [
    {
     "data": {
      "image/png": "[encoded data removed]",
      "text/plain": [
       "<Figure size 432x288 with 1 Axes>"
      ]
     },
     "metadata": {
      "needs_background": "light"
     },
     "output_type": "display_data"
    }
   ],
   "source": [
    "X = stats.norm.rvs(size = 2000000, random_state = 18)\n",
    "\n",
    "ax = sns.distplot(a = X, hist = False, kde_kws = dict(cumulative=False))\n",
    "\n",
    "plt.ylim(0, 0.42)\n",
    "\n",
    "z = stats.norm.isf(q = 0.05)\n",
    "\n",
    "x, y = [z, z], [0, 0.3]\n",
    "plt.plot(x, y, color = 'black')\n",
    "\n",
    "x, y = [z_score, z_score], [0, 0.03]\n",
    "plt.plot(x, y, color = 'black')\n",
    "\n",
    "l1 = ax.lines[0]\n",
    "x1 = l1.get_xydata()[:,0]\n",
    "y1 = l1.get_xydata()[:,1]\n",
    "\n",
    "ax.fill_between(x1[x1 >= z], y1[x1 >= z], color = 'lightblue')\n",
    "\n",
    "plt.annotate(s = 'α = 0.05\\n(Rejection Region for H0)', xy = (2.5, 0.008), xytext = (2.5, 0.058), \n",
    "             arrowprops = dict(facecolor = 'black', arrowstyle = 'simple'))\n",
    "\n",
    "plt.annotate(s = 'z_crit = '+ str(round(z,2)), xy = (z, 0.2), xytext = (z-1.1, 0.24), \n",
    "             arrowprops = dict(facecolor = 'black', arrowstyle = 'simple'))\n",
    "\n",
    "\n",
    "plt.text(x = -1.1, y = 0.2, s = 'Acceptance Region for H0 (1 - α)')\n",
    "\n",
    "\n",
    "plt.xticks(ticks = [-4, -2, 2, 4, round(z_score,2)], \n",
    "           labels = [-4, -2, 2, 4, 'z_test = '+str(round(z_score,2))])\n",
    "\n",
    "\n",
    "plt.xlabel('Z', fontsize = 15)\n",
    "plt.ylabel('Probability', fontsize = 15)\n",
    "plt.title('Right-Tailed Test', fontsize = 15)\n",
    "\n",
    "plt.show()"
   ]
  },
  {
   "cell_type": "markdown",
   "id": "e35169bb",
   "metadata": {},
   "source": [
    "# conclusion:"
   ]
  },
  {
   "cell_type": "markdown",
   "id": "34846f7c",
   "metadata": {},
   "source": [
    "We cannot accept that the new medicine works better than old medicine. All datas are taken randomely. Only in 2nd phase new medicine works better in gradual progression. Most of the time old medicine works better in 1st and 3rd phase and also for children, teenager, adult and old people."
   ]
  },
  {
   "cell_type": "code",
   "execution_count": null,
   "id": "c67316ea",
   "metadata": {},
   "outputs": [],
   "source": []
  }
 ],
 "metadata": {
  "kernelspec": {
   "display_name": "Python 3",
   "language": "python",
   "name": "python3"
  },
  "language_info": {
   "codemirror_mode": {
    "name": "ipython",
    "version": 3
   },
   "file_extension": ".py",
   "mimetype": "text/x-python",
   "name": "python",
   "nbconvert_exporter": "python",
   "pygments_lexer": "ipython3",
   "version": "3.8.8"
  }
 },
 "nbformat": 4,
 "nbformat_minor": 5
}
